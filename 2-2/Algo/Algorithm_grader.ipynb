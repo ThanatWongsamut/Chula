{
  "cells": [
    {
      "cell_type": "markdown",
      "metadata": {
        "id": "JtxIqoejSSQv"
      },
      "source": [
        "# **ex00e4**"
      ]
    },
    {
      "cell_type": "code",
      "execution_count": null,
      "metadata": {
        "colab": {
          "base_uri": "https://localhost:8080/"
        },
        "id": "O-DaldfozwF-",
        "outputId": "c85043eb-ac10-40bc-ddcf-c2ac7f01bfe6"
      },
      "outputs": [
        {
          "name": "stdout",
          "output_type": "stream",
          "text": [
            "5 5\n",
            "11111\n"
          ]
        }
      ],
      "source": [
        "# ex00e4\n",
        "def gencode(a, b, c, d):\n",
        "  # a = number of 1\n",
        "  # b = full length\n",
        "  # c = current text\n",
        "  # d = current number of 1\n",
        "  if len(c) < b:\n",
        "    if d < a:\n",
        "      gencode(a, b, c + \"1\", d + 1)\n",
        "    gencode(a, b, c + \"0\", d)\n",
        "  else:\n",
        "    if d == a:\n",
        "      print(c)\n",
        "    return\n",
        "\n",
        "a, b = input().split()\n",
        "gencode(int(a), int(b), \"\", 0)"
      ]
    },
    {
      "cell_type": "markdown",
      "metadata": {
        "id": "9vG0iwNLSYn7"
      },
      "source": [
        "# **ex00e5**"
      ]
    },
    {
      "cell_type": "code",
      "execution_count": null,
      "metadata": {
        "id": "6wWOiUGpfNQP"
      },
      "outputs": [],
      "source": [
        "#ex00e5\n",
        "def f(a,b,c):\n",
        "  if len(c)<b:f(a,b,c+\"0\");f(a,b,c+\"1\")\n",
        "  else:\n",
        "    if \"1\"*a in c:\n",
        "      print(c)\n",
        "    return\n",
        "a,b=input().split();f(int(b), int(a), \"\")"
      ]
    },
    {
      "cell_type": "markdown",
      "metadata": {
        "id": "8c30HtmPSXYf"
      },
      "source": [
        "# **a64_q1_permu_before**"
      ]
    },
    {
      "cell_type": "code",
      "execution_count": null,
      "metadata": {
        "id": "BrnMqcZAkRT3"
      },
      "outputs": [],
      "source": [
        "# a64_q1_permu_before\n",
        "a, b = [int(i) for i in input().split()]\n",
        "r = {d: c for c, d in (map(int, input().split()) for _ in range(b))}\n",
        "\n",
        "def f(u, e):\n",
        "  if len(e) == a:\n",
        "    print(\" \".join(map(str, e)))\n",
        "    return\n",
        "  for i, s in enumerate(range(a)):\n",
        "    if not u[i] and (s not in r or r[s] in e):\n",
        "      used[i] = True\n",
        "      f(u, e + [s])\n",
        "      u[i] = False\n",
        "\n",
        "f([False for _ in range(a)], [])"
      ]
    },
    {
      "cell_type": "markdown",
      "metadata": {
        "id": "EpsoIKE5Sd5F"
      },
      "source": [
        "# **a63_q1b_virus2**"
      ]
    },
    {
      "cell_type": "code",
      "execution_count": null,
      "metadata": {
        "id": "f4b1pi0feZzn"
      },
      "outputs": [],
      "source": [
        "# a63_q1b_virus2\n",
        "it = lambda: [int(i) for i in input().split()]\n",
        "n, K = it()\n",
        "\n",
        "def f(l):\n",
        "  if len(l) == 2:\n",
        "    return True\n",
        "  a = l[0:len(l)//2]\n",
        "  b = l[len(l)//2:]\n",
        "  return f(a) and f(b) and abs(sum(a) - sum(b)) < 2\n",
        "\n",
        "for i in range(n):\n",
        "  s = it()\n",
        "  print(\"yes\" if f(s) else \"no\")"
      ]
    },
    {
      "cell_type": "markdown",
      "metadata": {
        "id": "XQpNaTlTSf16"
      },
      "source": [
        "# **a62_q1b_virus**"
      ]
    },
    {
      "cell_type": "code",
      "execution_count": null,
      "metadata": {
        "id": "81UidseH3EsV"
      },
      "outputs": [],
      "source": [
        "# a62_q1b_virus\n",
        "m=input;n=int(m().split()[0])\n",
        "def f(l):\n",
        "  k=len(l)//2\n",
        "  if k&1:return l==['0','1']\n",
        "  a=l[:k];return(f(a)|f(a[::-1]))&f(l[k:])\n",
        "while n:print(\"yes\"if f(m().split())else\"no\");n-=1"
      ]
    },
    {
      "cell_type": "markdown",
      "metadata": {
        "id": "KkoEh893Sgb5"
      },
      "source": [
        "# **ex02e3_bs**"
      ]
    },
    {
      "cell_type": "code",
      "execution_count": null,
      "metadata": {
        "id": "B9xPEia44Ze6"
      },
      "outputs": [],
      "source": [
        "# ex02e3_bs\n",
        "m=input;m()\n",
        "s=[int(x)for x in m().split()]\n",
        "for x in m().split():\n",
        "  x=int(x)\n",
        "  L,H=0,len(s)\n",
        "  while(L<H):\n",
        "    m=(L+H)>>1\n",
        "    if x<s[m]:H=m\n",
        "    else:\tL=m+1\n",
        "  print(H-1)"
      ]
    },
    {
      "cell_type": "markdown",
      "metadata": {
        "id": "EdRL3lSJShGp"
      },
      "source": [
        "# **ex01m3**"
      ]
    },
    {
      "cell_type": "code",
      "execution_count": null,
      "metadata": {
        "colab": {
          "base_uri": "https://localhost:8080/"
        },
        "id": "Koxtiu58-XiS",
        "outputId": "7c920ed9-2a57-44a0-aa19-af7732b5b7c6"
      },
      "outputs": [
        {
          "name": "stdout",
          "output_type": "stream",
          "text": [
            "3 1\n",
            "2 2 5\n",
            "300\n",
            "248\n"
          ]
        }
      ],
      "source": [
        "# ex01m3\n",
        "N, A = map(int,input().split())\n",
        "T = sorted([int(x) for x in input().split()])\n",
        "\n",
        "for c in map(int, input().split()):\n",
        "\tif(c - N <= 0):\n",
        "\t\tprint(0)\n",
        "\t\tcontinue\n",
        "\tl = 1\n",
        "\th = c * T[0]\n",
        "\twhile l < h:\n",
        "\t\tm = (l+h)>>1\n",
        "\t\tif c - N <= sum([m//t for t in T]):\n",
        "\t\t\th = m\n",
        "\t\telse:\n",
        "\t\t\tl = m+1\n",
        "\tprint(l)"
      ]
    },
    {
      "cell_type": "code",
      "execution_count": null,
      "metadata": {
        "colab": {
          "base_uri": "https://localhost:8080/"
        },
        "id": "t44bS4bAtM3n",
        "outputId": "f497d157-f77c-4af1-f856-9168e60a0693"
      },
      "outputs": [
        {
          "name": "stdout",
          "output_type": "stream",
          "text": [
            "3 1\n",
            "2 2 5\n",
            "300\n",
            "248\n"
          ]
        }
      ],
      "source": [
        "import bisect\n",
        "(n,m),a,b=[list(map(int,input().split()))for i in range(3)]\n",
        "class T:\n",
        "  def __getitem__(s,t):return sum(t//c for c in a)\n",
        "for q in b:\n",
        "  print(bisect.bisect_left(T(),q-n,0,q*a[0]))"
      ]
    },
    {
      "cell_type": "markdown",
      "metadata": {
        "id": "AKjahOxVSiHf"
      },
      "source": [
        "# **ex01e3**"
      ]
    },
    {
      "cell_type": "code",
      "execution_count": null,
      "metadata": {
        "colab": {
          "base_uri": "https://localhost:8080/"
        },
        "id": "PplsEqn3oM8r",
        "outputId": "f71ecd29-854a-4043-e4fb-6ea6a73451dd"
      },
      "outputs": [
        {
          "name": "stdout",
          "output_type": "stream",
          "text": [
            "4 7\n",
            "14 15 20 30\n",
            "10 11 14 15 16 21 68\n",
            "30\n",
            "30\n",
            "14\n",
            "15\n",
            "15\n",
            "20\n",
            "30\n"
          ]
        }
      ],
      "source": [
        "# ex01e3\n",
        "m=input;m()\n",
        "s=[int(x)for x in m().split()]\n",
        "for x in m().split():\n",
        "  x=int(x)\n",
        "  L,H=0,len(s)\n",
        "  while(L<H):\n",
        "    m=(L+H)>>1\n",
        "    if x<s[m]:H=m\n",
        "    else:\tL=m+1\n",
        "  print(s[H-1]if H>0 else-1)"
      ]
    },
    {
      "cell_type": "markdown",
      "metadata": {
        "id": "6JZwokbjSjfi"
      },
      "source": [
        "# **a59_midp3_similar**"
      ]
    },
    {
      "cell_type": "code",
      "execution_count": null,
      "metadata": {
        "colab": {
          "base_uri": "https://localhost:8080/"
        },
        "id": "Gw3ocRNjpjy0",
        "outputId": "b6875d43-8bad-4248-f4fb-7edba8d11354"
      },
      "outputs": [
        {
          "name": "stdout",
          "output_type": "stream",
          "text": [
            "aabb\n",
            "abab\n",
            "NO\n"
          ]
        }
      ],
      "source": [
        "# a59_midp3_similar\n",
        "def f(s):k=len(s)//2;return sorted([f(s[:k]),f(s[k:])])if k else s\n",
        "print(\"YES\"if f(input())==f(input())else\"NO\")"
      ]
    },
    {
      "cell_type": "markdown",
      "metadata": {
        "id": "NIn3WMgZSk72"
      },
      "source": [
        "# **ex01e4**"
      ]
    },
    {
      "cell_type": "code",
      "execution_count": null,
      "metadata": {
        "id": "FxW-ANBZTNDu"
      },
      "outputs": [],
      "source": [
        "# ex01e4\n",
        "a,b,c=map(int,input().split());d=1\n",
        "while b>0:\n",
        "  if ((b&1)!=0): d*=a;\n",
        "  b=b>>1;a*=a\n",
        "print(d%c)"
      ]
    },
    {
      "cell_type": "code",
      "execution_count": null,
      "metadata": {
        "id": "78S5YltPsnCa"
      },
      "outputs": [],
      "source": [
        "# ex01e4\n",
        "print(pow(*map(int,input().split())))"
      ]
    },
    {
      "cell_type": "markdown",
      "metadata": {
        "id": "bRRnhmrySmQ9"
      },
      "source": [
        "# **a60_q1_number1**"
      ]
    },
    {
      "cell_type": "code",
      "execution_count": null,
      "metadata": {
        "colab": {
          "base_uri": "https://localhost:8080/"
        },
        "id": "Hv-h7stMQbAq",
        "outputId": "710b7d9b-2889-46e8-8b43-c9f53ee768b4"
      },
      "outputs": [
        {
          "name": "stdout",
          "output_type": "stream",
          "text": [
            "10 3 10\n",
            "5\n"
          ]
        }
      ],
      "source": [
        "# a60_q1_number1\n",
        "def findLength(n):\n",
        "    c = 0\n",
        "    while n > 0:\n",
        "        c += 1\n",
        "        n //= 2\n",
        "    return 2**c - 1\n",
        "\n",
        "def calculate(n, l, r):\n",
        "    sideLength = findLength(n//2)\n",
        "    if l > r:\n",
        "        return 0\n",
        "    if n == 1:\n",
        "        return 1\n",
        "    if r <= sideLength:\n",
        "        return calculate(n//2, l, r)\n",
        "    if l >= sideLength + 2:\n",
        "        return calculate(n//2, l-sideLength-1, r-sideLength-1)\n",
        "    return n%2 + calculate(n//2, l, sideLength) + calculate(n//2, 1, r-sideLength-1)\n",
        "\n",
        "x = list(map(int, input().split()))\n",
        "print(calculate(x[0], x[1], x[2]))"
      ]
    },
    {
      "cell_type": "code",
      "execution_count": null,
      "metadata": {
        "id": "DPG2DqqeNaiI"
      },
      "outputs": [],
      "source": [
        "# a60_q1_number1\n",
        "n,l,r=map(int,input().split());f=lambda i:r//i-(l-1)//i;a=0;i=1<<len(bin(n))-3\n",
        "while n:a+=n%2*(f(i)-f(i+i));n//=2;i//=2\n",
        "print(a)"
      ]
    },
    {
      "cell_type": "markdown",
      "metadata": {
        "id": "1KEoO5XoSoNG"
      },
      "source": [
        "# **a62_q1a_recur**"
      ]
    },
    {
      "cell_type": "code",
      "execution_count": null,
      "metadata": {
        "colab": {
          "base_uri": "https://localhost:8080/"
        },
        "id": "A1xQNnPFeJau",
        "outputId": "766be19f-edae-4cf7-e67c-59ed8166d912"
      },
      "outputs": [
        {
          "name": "stdout",
          "output_type": "stream",
          "text": [
            "2 7\n",
            "7 6 6 5\n",
            "8 7 7 6\n",
            "8 7 7 6\n",
            "9 8 8 7\n"
          ]
        }
      ],
      "source": [
        "# a62_q1a_recur\n",
        "a, b = map(int, input().split())\n",
        "\n",
        "m = [[0for i in range(2**a)]for _ in range(2**a)]\n",
        "\n",
        "def f(n,k,r,c):\n",
        "  if n == 0:\n",
        "    m[r][c] = str(k)\n",
        "    return\n",
        "  \n",
        "  n//=2\n",
        "  f(n,k,r,c)\n",
        "  f(n,k-1,r,c+n)\n",
        "  f(n,k+1,r+n,c)\n",
        "  f(n,k,r+n,c+n)\n",
        "\n",
        "f(2**a,b,0,0)\n",
        "\n",
        "for r in m:\n",
        "  print(\" \".join(r))"
      ]
    },
    {
      "cell_type": "markdown",
      "metadata": {
        "id": "ZoGQAa2_baHj"
      },
      "source": [
        "# **ex01m2**"
      ]
    },
    {
      "cell_type": "code",
      "execution_count": null,
      "metadata": {
        "colab": {
          "base_uri": "https://localhost:8080/"
        },
        "id": "tFP-a68dbZLm",
        "outputId": "6d412495-2a0c-4537-f3d4-e9a428c6f141"
      },
      "outputs": [
        {
          "name": "stdout",
          "output_type": "stream",
          "text": [
            "6\n",
            "1 5 4 2 3 -1\n",
            "10\n"
          ]
        }
      ],
      "source": [
        "# ex01m2\n",
        "input();a=[int(i)for i in input().split()]\n",
        "print(sum([sum([int(a[i]>a[j])for j in range(i+1,len(a))])for i in range(len(a))]))"
      ]
    },
    {
      "cell_type": "code",
      "execution_count": null,
      "metadata": {
        "colab": {
          "base_uri": "https://localhost:8080/"
        },
        "id": "vBIQIOACdten",
        "outputId": "c9c8ddbc-bac7-464a-a1c7-9505a85529d3"
      },
      "outputs": [
        {
          "name": "stdout",
          "output_type": "stream",
          "text": [
            "4\n",
            "10 30 40 20\n",
            "2\n"
          ]
        }
      ],
      "source": [
        "# ex01m2\n",
        "import bisect\n",
        "input();d=[];c=0\n",
        "for k in input().split():k=int(k);i=bisect.bisect_right(d,k);d.insert(i,k);c+=len(d)-i-1\n",
        "print(c)"
      ]
    },
    {
      "cell_type": "markdown",
      "metadata": {
        "id": "1soZopIgkwAT"
      },
      "source": [
        "# **ex01e2**"
      ]
    },
    {
      "cell_type": "code",
      "execution_count": null,
      "metadata": {
        "colab": {
          "base_uri": "https://localhost:8080/"
        },
        "id": "sKcUt19YlGla",
        "outputId": "f4c34e28-35a8-4c17-ebbd-951f2390651e"
      },
      "outputs": [
        {
          "name": "stdout",
          "output_type": "stream",
          "text": [
            "8\n",
            "-1 -2 -2 -2 -2 -2 -2 -1\n",
            "-1\n"
          ]
        }
      ],
      "source": [
        "input()\n",
        "s=-2e8;m=s;\n",
        "for i in [int(k) for k in input().split()]:s=max(s+i,i);m=max(m,s)\n",
        "print(m)"
      ]
    },
    {
      "cell_type": "markdown",
      "metadata": {
        "id": "7tLXSUysk0rI"
      },
      "source": [
        "# **a60_q1_matmod**"
      ]
    },
    {
      "cell_type": "code",
      "execution_count": null,
      "metadata": {
        "colab": {
          "base_uri": "https://localhost:8080/"
        },
        "id": "a73DuX9sksDL",
        "outputId": "0142928b-fc2a-4590-ed73-6a15af3db284"
      },
      "outputs": [
        {
          "name": "stdout",
          "output_type": "stream",
          "text": [
            "3 5\n",
            "2 9 1 3\n",
            "2 9 1 3\n",
            "13 45 5 18\n",
            "71 252 28 99\n"
          ]
        }
      ],
      "source": [
        "n,k=map(int,input().split())\n",
        "a,b,c,d=map(int,input().split())\n",
        "e,f,g,h=[a,b,c,d];t=n\n",
        "p=lambda x:x%k\n",
        "while n-1:\n",
        "  e,f,g,h=e*e+f*g,e*f+f*h,g*e+h*g,g*f+h*h\n",
        "  n//=2\n",
        "if t&1:e,f,g,h=p(e*a+f*c),p(e*b+f*d),p(g*a+h*c),p(g*b+h*d)\n",
        "print(e,f,g,h)"
      ]
    },
    {
      "cell_type": "code",
      "execution_count": null,
      "metadata": {
        "id": "QGA6fBpu-tEw"
      },
      "outputs": [],
      "source": [
        "def M(a,b,c,d,e,f,g,h,k):return[(a*e+b*g)%k,(a*f+b*h)%k,(c*e+d*g)%k,(c*f+d*h)%k]\n",
        "def F(n,k,a):\n",
        "  if n<2:return[x%k for x in a]\n",
        "  t=F(n//2,k,a);t=M(*t+t,k)\n",
        "  if n%2:return M(*t+a,k)\n",
        "  return t\n",
        "X=lambda:map(int,input().split());print(*F(*X(),[*X()]))"
      ]
    },
    {
      "cell_type": "markdown",
      "metadata": {
        "id": "jTgmS4sQ6CBH"
      },
      "source": [
        "# **a61_q1_thanos**"
      ]
    },
    {
      "cell_type": "code",
      "execution_count": null,
      "metadata": {
        "id": "u_Y9XT8-84DE"
      },
      "outputs": [],
      "source": [
        "# NO brain\n",
        "\n",
        "p, k, A, B = map(int, input().split())\n",
        "\n",
        "l = [0 for i in range(2**p)]\n",
        "\n",
        "for j in map(int, input().split()):\n",
        "  l[j-1] += 1\n",
        "\n",
        "def F(l):\n",
        "  m=len(l)\n",
        "  if m==1 and sum(l)>0:\n",
        "    return B*sum(l)*len(l)\n",
        "  if sum(l)==0:\n",
        "    return A\n",
        "  return min(F(l[:m//2])+F(l[m//2:]),B*sum(l)*len(l))\n",
        "\n",
        "print(F(l))"
      ]
    },
    {
      "cell_type": "code",
      "execution_count": null,
      "metadata": {
        "id": "tN3UAMGHWSCL"
      },
      "outputs": [],
      "source": [
        "import bisect\n",
        "\n",
        "p, k, A, B = map(int, input().split())\n",
        "l = sorted(list(map(int, input().split())))\n",
        "\n",
        "def f(start,end):\n",
        "  mid = (start+end)//2\n",
        "  range = end - start + 1\n",
        "  \n",
        "  sindex = bisect.bisect_left(l, start)\n",
        "  eindex = bisect.bisect_right(l, end)\n",
        "\n",
        "  count = eindex - sindex\n",
        "\n",
        "  if range == 1 and count > 0:\n",
        "    return B * range * count\n",
        "\n",
        "  if count == 0:\n",
        "    return A\n",
        "\n",
        "  return min(f(start,mid) + f(mid+1,end), B * range * count)\n",
        "\n",
        "print(f(1, 2**p))\n"
      ]
    },
    {
      "cell_type": "code",
      "execution_count": null,
      "metadata": {
        "colab": {
          "base_uri": "https://localhost:8080/"
        },
        "id": "_2_uRKzWML8j",
        "outputId": "e9cb3701-93fd-4443-b4be-68717bcc33a6"
      },
      "outputs": [
        {
          "name": "stdout",
          "output_type": "stream",
          "text": [
            "5 3 10000 3241\n",
            "5 12 2\n",
            "1 32 32 3\n",
            "1 16 16 3\n",
            "1 8 8 2\n",
            "1 4 4 1\n",
            "1 2 2 1\n",
            "1 1 1 0\n",
            "2 2 1 1\n",
            "3 4 2 0\n",
            "5 8 4 1\n",
            "5 6 2 1\n",
            "5 5 1 1\n",
            "6 6 1 0\n",
            "7 8 2 0\n",
            "9 16 8 1\n",
            "9 12 4 1\n",
            "9 10 2 0\n",
            "11 12 2 1\n",
            "11 11 1 0\n",
            "12 12 1 1\n",
            "13 16 4 0\n",
            "17 32 16 0\n",
            "58892\n"
          ]
        }
      ],
      "source": [
        "import bisect\n",
        "from bisect import bisect_left as g\n",
        "p,k,A,B=map(int,input().split())\n",
        "l=sorted(map(int,input().split()))\n",
        "def f(s,e):\n",
        "  c,r=g(l,s+e)-g(l,s),e>>1\n",
        "  return(min(f(s,r)+f(s+r,r),B*c*e)if r else B*c*e)if c else A\n",
        "print(f(1, 1<<p))"
      ]
    },
    {
      "cell_type": "code",
      "execution_count": null,
      "metadata": {
        "id": "v3hnA7geDk80"
      },
      "outputs": [],
      "source": [
        "962380978\n",
        "\n",
        "8 96518 1 9971\n"
      ]
    },
    {
      "cell_type": "markdown",
      "metadata": {
        "id": "hiuCum_hXMIi"
      },
      "source": [
        "# **a60b_q2_pareto**"
      ]
    },
    {
      "cell_type": "code",
      "execution_count": null,
      "metadata": {
        "colab": {
          "base_uri": "https://localhost:8080/"
        },
        "id": "cvItUyS6XTbo",
        "outputId": "84a11f41-9163-47d2-f01f-a3f88545c11d"
      },
      "outputs": [
        {
          "name": "stdout",
          "output_type": "stream",
          "text": [
            "3\n",
            "50 10\n",
            "30 30\n",
            "10 50\n",
            "50\n",
            "30\n",
            "10\n"
          ]
        }
      ],
      "source": [
        "n=int(input())\n",
        "p={}\n",
        "while n:\n",
        "  x,y=map(int,input().split())\n",
        "  p[x]=y\n",
        "  n-=1\n",
        "\n",
        "for i in sorted(p)[::-1]:\n",
        "  print(i)"
      ]
    },
    {
      "cell_type": "code",
      "execution_count": null,
      "metadata": {
        "id": "cL_xWFmlZazs"
      },
      "outputs": [],
      "source": [
        "import sys;X=sys.stdin.readline\n",
        "a=sorted([list(map(int, X().split()))for e in range(int(X()))])[::-1]\n",
        "Y=a[0][1];s=0\n",
        "for x,y in a:\n",
        "  if y>=Y:s+=1;Y=y\n",
        "print(s)"
      ]
    },
    {
      "cell_type": "markdown",
      "metadata": {
        "id": "FDeFxCq_cyTH"
      },
      "source": [
        "# **a58_q1_triple**"
      ]
    },
    {
      "cell_type": "code",
      "execution_count": null,
      "metadata": {
        "id": "5r8iYp7Ec0tr"
      },
      "outputs": [],
      "source": [
        "input()\n",
        "i = [*map(int, input().split())]\n",
        "l = [*map(int, input().split())]\n",
        "s = {}\n",
        "for j in l:\n",
        "  s[j] = 0\n",
        "\n",
        "m = len(i)\n",
        "for x in range(m-2):\n",
        "  for y in range(x+1,m-1):\n",
        "    for z in range(y+1,m):\n",
        "      w = i[x]+i[y]+i[z]\n",
        "      s[w] = 1\n",
        "for j in l:\n",
        "  print(\"YES\"if s[j]else \"NO\")"
      ]
    },
    {
      "cell_type": "code",
      "execution_count": null,
      "metadata": {
        "id": "Yt9fdNj6oNR0"
      },
      "outputs": [],
      "source": [
        "n,m=map(int,input().split())\n",
        "a=[*map(int,input().split())]\n",
        "b=[*map(int,input().split())]\n",
        "s=set([a[i]+a[j] for i in range(n-1) for j in range(i+1,n)])\n",
        "for i in b:\n",
        "  for j in a:\n",
        "    if i-j in s:print(\"YES\");break\n",
        "  else:print(\"NO\")"
      ]
    },
    {
      "cell_type": "markdown",
      "metadata": {
        "id": "d36ElGg7qknQ"
      },
      "source": [
        "# **a57_m4_gaa**"
      ]
    },
    {
      "cell_type": "code",
      "execution_count": null,
      "metadata": {
        "colab": {
          "base_uri": "https://localhost:8080/"
        },
        "id": "LEFV0FN5qoLr",
        "outputId": "6ad6aeb6-223f-402b-8790-d86356d527d7"
      },
      "outputs": [
        {
          "name": "stdout",
          "output_type": "stream",
          "text": [
            "5\n",
            "[1, 3]\n",
            "[1, 3, 7]\n"
          ]
        }
      ],
      "source": [
        "n = int(input())\n",
        "\n",
        "i = 2\n",
        "gpos = [1]\n",
        "\n",
        "g1 = 0\n",
        "g2 = 0\n",
        "\n",
        "while True:\n",
        "  if gpos[-1] < n:\n",
        "    g2 = gpos[-1] + i + g1\n",
        "    g1 = gpos[-1]\n",
        "    gpos.append(g2)\n",
        "    i+=1\n",
        "    print(gpos)\n",
        "  else:\n",
        "    break"
      ]
    },
    {
      "cell_type": "code",
      "execution_count": null,
      "metadata": {
        "id": "ZBNIEwf41CGY"
      },
      "outputs": [],
      "source": [
        "N = int(input())\n",
        "\n",
        "def lenG(k):\n",
        "\tif k < 0:\n",
        "\t\treturn 0\n",
        "\treturn lenG(k-1)*2 + k+3\n",
        "\n",
        "def gaa(n,k):\n",
        "\tif n > lenG(k):\n",
        "\t\treturn gaa(n,k+1)\n",
        "\tif n <= lenG(k-1):\n",
        "\t\treturn gaa(n,k-1)\n",
        "\tn -= lenG(k-1)\n",
        "\tif n <= k+3:\n",
        "\t\treturn 'g' if n==1 else 'a'\n",
        "\treturn gaa(n-k-3,k-1)\n",
        "\n",
        "print(gaa(N,0))"
      ]
    },
    {
      "cell_type": "code",
      "execution_count": null,
      "metadata": {
        "colab": {
          "base_uri": "https://localhost:8080/"
        },
        "id": "KvdVPdsLt3py",
        "outputId": "9f9f1707-656a-4d52-abc1-ba79752ec395"
      },
      "outputs": [
        {
          "name": "stdout",
          "output_type": "stream",
          "text": [
            "11\n",
            "g\n"
          ]
        }
      ],
      "source": [
        "n = int(input())\n",
        "\n",
        "i = 1\n",
        "\n",
        "g1 = \"gaa\"\n",
        "g2 = \"\"\n",
        "\n",
        "while True:\n",
        "  if len(g2) < n:\n",
        "    g2 = g1 + (\"ga\" + \"a\" * (i + 1)) + g1\n",
        "    g1 = g2\n",
        "    i+=1\n",
        "  else:\n",
        "    print(g2[n-1])\n",
        "    break"
      ]
    },
    {
      "cell_type": "code",
      "execution_count": null,
      "metadata": {
        "id": "AoTt0EOA811N"
      },
      "outputs": [],
      "source": [
        "def p(x):\n",
        "  t=0;r=2\n",
        "  while t<x:r+=1;t=2*t+r\n",
        "  t=(t-r)//2\n",
        "  if t+r>=x:\n",
        "    print('g'if t+1==x else'a')\n",
        "  else:d=x-t-r;return p(d)\n",
        "p(int(input()))"
      ]
    },
    {
      "cell_type": "markdown",
      "metadata": {
        "id": "RM4umdswfZSN"
      },
      "source": [
        "# ex03m3"
      ]
    },
    {
      "cell_type": "code",
      "execution_count": null,
      "metadata": {
        "colab": {
          "base_uri": "https://localhost:8080/"
        },
        "id": "cYH7KTiqqAWB",
        "outputId": "db8593ac-a060-43e2-e5bb-a716cde9b5a6"
      },
      "outputs": [
        {
          "name": "stdout",
          "output_type": "stream",
          "text": [
            "20 3\n",
            "128 219 95 974 403 925 274 841 717 44 559 886 997 940 172 908 621 872 481 571\n",
            "[128, 219, 95, 974, 403, 925, 274, 841, 717, 44, 559, 886, 997, 940, 172, 908, 621, 872, 481, 571]\n",
            "95 [274, 841, 717, 44, 559, 886, 997, 940, 172, 908, 621, 872, 481, 571]\n",
            "44 [940, 172, 908, 621, 872, 481, 571]\n",
            "172 [481, 571]\n",
            "792\n"
          ]
        }
      ],
      "source": [
        "n,k=map(int,input().split())\n",
        "l=[*(map(int,input().split()))]\n",
        "for i in range(k+1,n):l[i]+=min(l[max(0,i-1-k-k):i])\n",
        "print(min(l[-k-1:]))"
      ]
    },
    {
      "cell_type": "markdown",
      "metadata": {
        "id": "h3nnB0IvqEww"
      },
      "source": [
        "# **ex02e1_fibo**"
      ]
    },
    {
      "cell_type": "code",
      "execution_count": null,
      "metadata": {
        "colab": {
          "base_uri": "https://localhost:8080/"
        },
        "id": "ivrm906kqHA9",
        "outputId": "c5f5b4fe-6562-4ce0-c809-9961f09ad385"
      },
      "outputs": [
        {
          "name": "stdout",
          "output_type": "stream",
          "text": [
            "17\n",
            "1597\n"
          ]
        }
      ],
      "source": [
        "a=0;b=1;c=1\n",
        "for i in range(int(input())-1):\n",
        "  c=a+b\n",
        "  a=b\n",
        "  b=c\n",
        "print(c)"
      ]
    },
    {
      "cell_type": "code",
      "execution_count": null,
      "metadata": {
        "id": "E31ShjpKsa3p"
      },
      "outputs": [],
      "source": [
        "n=int(input());print(pow(2<<n,n+1,(4<<2*n)-(2<<n)-1)%(2<<n))"
      ]
    },
    {
      "cell_type": "code",
      "execution_count": null,
      "metadata": {
        "id": "n2B4MGU9shRZ"
      },
      "outputs": [],
      "source": [
        "l,n=0,1;exec(\"l,n=n,l+n;\"*int(input()));print(l)"
      ]
    },
    {
      "cell_type": "markdown",
      "metadata": {
        "id": "quYF2wF0gpj2"
      },
      "source": [
        "# **a59_q1_quicksum**"
      ]
    },
    {
      "cell_type": "code",
      "execution_count": null,
      "metadata": {
        "colab": {
          "base_uri": "https://localhost:8080/"
        },
        "id": "nyjiUjEdgre-",
        "outputId": "18cba54f-43e0-4cf9-89df-670ad9e4e857"
      },
      "outputs": [
        {
          "name": "stdout",
          "output_type": "stream",
          "text": [
            "3 5 7\n",
            "1 2 3 4 5\n",
            "6 6 6 6 6\n",
            "7 7 3 1 1\n",
            "0 0 0 0\n",
            "0 0 1 1\n",
            "1 1 2 1\n",
            "1 1 2 3\n",
            "1 0 2 2\n",
            "0 1 2 2\n",
            "0 0 2 4\n",
            "1 15 13 29 35 27 64\n"
          ]
        }
      ],
      "source": [
        "x=lambda:[*map(int,input().split())]\n",
        "r,c,k=x()\n",
        "a=[[0]*(c+1)]+[[0]+x() for i in range(r)]\n",
        "for i in range(1,r+1):\n",
        "  for j in range(1,c+1):a[i][j]+=a[i-1][j]+a[i][j-1]-a[i-1][j-1]\n",
        "print(*(a[b+1][r+1]-a[b+1][l]-a[t][r+1]+a[t][l] for _ in range(k) for t,l,b,r in [x()]))"
      ]
    },
    {
      "cell_type": "markdown",
      "metadata": {
        "id": "2lxs3iuXix8P"
      },
      "source": [
        "# **ex03e1_lcs**"
      ]
    },
    {
      "cell_type": "code",
      "execution_count": null,
      "metadata": {
        "colab": {
          "base_uri": "https://localhost:8080/"
        },
        "id": "sh6EHfYKi07d",
        "outputId": "9381c83f-a5b2-4145-f725-83f7e687f352"
      },
      "outputs": [
        {
          "name": "stdout",
          "output_type": "stream",
          "text": [
            "ENCGDLLODBVCCWLUDFCULMUERLMERISPEVINKPDYUEEBSFQQPKSJQBFTWJFGSKHJWTOASFAHPUDAJVLWFWLLCEMAARWFLUHJVUAXNAPXVWIOHXUXVQFJLHYKOOSJPYVUCMGRGLJYYTCGBFFLOOOFENLWPCBNAGEKHMSOPMWEXIOOUKEYFJBTSCNOGBAYBYCHFMWECWCJLMFJBLUKNBGIWKAHVXBPDUFNEOEPMEVRIIVKVHPQFQXBSRSEAPBJNIHTSRFLPJKPFQMMSODUFQNKUXOVAORWYTMFRKCSOOBAVGUDMLNYOKBGGFMJFSFHFILWCOAXYCDIDTMMYAPWDKFLFYFSXWOIIKWXESQANWTSSOMTIDRODDIMPKNLLHKCGMCVNACCDFLPJOPNWEYSPJYAFGOLVLJYYGRK\n",
            "EOVPKPJISKMXRVYMOTJDXEXXELCRTTYTUHJQMLXMEVEDQDSTNUBPETRQDQBETFHWRWCXQLWCEONPVQBWRKRUWASAJPDGHQFECUSSDCNJHUEBRXQVONXVNTYUTSIXNFFKGTVCXXMCSKNWMOEMXKRHYPYGSRXQEKGJQUVDMEHPQTWI\n",
            "78\n"
          ]
        }
      ],
      "source": [
        "a=input().strip();b=input().strip()\n",
        "t=[[0 for j in range(len(a)+1)] for i in range(len(b)+1)]\n",
        "\n",
        "for i in range(1,len(b)+1):\n",
        "  for j in range(1,len(a)+1):\n",
        "    if a[j-1] == b[i-1]:\n",
        "      t[i][j] = max(t[i-1][j-1] + 1, t[i][j-1])\n",
        "    else:\n",
        "      t[i][j] = max(t[i-1][j], t[i][j-1])\n",
        "\n",
        "print(t[len(b)][len(a)])"
      ]
    },
    {
      "cell_type": "code",
      "execution_count": null,
      "metadata": {
        "id": "g_rkHjGb1pjb"
      },
      "outputs": [],
      "source": [
        "X=lambda:input().strip();a=X();b=X();l=[0]*(len(b)+1)\n",
        "for i in range(len(a)):\n",
        " t=l[:]\n",
        " for j in range(len(b)):\n",
        "  if a[i]==b[j]:t[j+1]=max(l[j+1],max(l[:j+1])+1)\n",
        " l=t\n",
        "print(max(l))"
      ]
    },
    {
      "cell_type": "markdown",
      "metadata": {
        "id": "ABHwtXay5WNv"
      },
      "source": [
        "# **ex01h1**"
      ]
    },
    {
      "cell_type": "code",
      "execution_count": null,
      "metadata": {
        "id": "llFO0PkV6W9U"
      },
      "outputs": [],
      "source": [
        "from bisect import bisect as b\n",
        "n=int(input());l=[0,1,3]\n",
        "while l[-1]<2e9:l+=[l[-1]+b(l,len(l)-1)]\n",
        "while n:print(b(l,int(input())-1));n-=1"
      ]
    },
    {
      "cell_type": "markdown",
      "metadata": {
        "id": "F67cQjtKnM3D"
      },
      "source": [
        "# **a65_q0_degrees**"
      ]
    },
    {
      "cell_type": "code",
      "execution_count": null,
      "metadata": {
        "id": "rHJvUlfAp64J"
      },
      "outputs": [],
      "source": [
        "#include<bits/stdc++.h>\n",
        "\n",
        "using namespace std;\n",
        "\n",
        "int main(){\n",
        "\n",
        "\n",
        "\n",
        "  for (int i=0; i<n; ++i){\n",
        "    int Temp = 0;\n",
        "    string Temp2;\n",
        "    getline(cin,Temp2);\n",
        "    for (int i=0; i<n; ++i){\n",
        "      //cin>>Temp2;\n",
        "      Temp += Temp2[i*2] - '0';\n",
        "    }\n",
        "    MAX = max(Temp,MAX);\n",
        "    arr[Temp]++;\n",
        "  }\n",
        "  while (arr.back() == 0){\n",
        "    arr.pop_back();\n",
        "  }\n",
        "  for (int i=0; i<=MAX; ++i){\n",
        "    cout<<arr[i]<<\" \";\n",
        "  }\n",
        "  cout<<\"\\n\";\n",
        "  return 0;\n",
        "}"
      ]
    },
    {
      "cell_type": "code",
      "execution_count": null,
      "metadata": {
        "colab": {
          "base_uri": "https://localhost:8080/"
        },
        "id": "FS-NccfMnP5Y",
        "outputId": "c0211ef5-97fd-4527-a481-c0cc9f8d79a2"
      },
      "outputs": [
        {
          "name": "stdout",
          "output_type": "stream",
          "text": [
            "6\n",
            "0 1 0 1 0 0\n",
            "1 0 1 0 0 0\n",
            "0 1 0 0 0 0\n",
            "1 0 0 0 1 1\n",
            "0 0 0 1 0 1\n",
            "0 0 0 1 1 0\n",
            "0 1 4\n"
          ]
        }
      ],
      "source": [
        "# import sys\n",
        "# input = sys.stdin.readline\n",
        "\n",
        "n = int(input())\n",
        "m = -1\n",
        "data = [0] * n\n",
        "\n",
        "for i in range(n):\n",
        "  a = sum(map(int,input().split()))\n",
        "  m = max(a, m)\n",
        "  data[a] += 1;\n",
        "\n",
        "print(*data[:m+1])"
      ]
    },
    {
      "cell_type": "markdown",
      "metadata": {
        "id": "s2AkBt5sCXSs"
      },
      "source": [
        "# **a59_midp1_lcs**"
      ]
    },
    {
      "cell_type": "code",
      "execution_count": null,
      "metadata": {
        "colab": {
          "base_uri": "https://localhost:8080/"
        },
        "id": "uXyH0RugCWQE",
        "outputId": "884b8f4a-5b18-41ce-8f24-089c8e64c65e"
      },
      "outputs": [
        {
          "name": "stdout",
          "output_type": "stream",
          "text": [
            "4 5\n",
            "hero\n",
            "hello\n",
            "0 0 0 0 0 0\n",
            "0 1 1 1 1 1\n",
            "0 1 2 2 2 2\n",
            "0 1 2 2 2 2\n",
            "0 1 2 2 2 3\n",
            "heo"
          ]
        }
      ],
      "source": [
        "n , m = map(int,input().split())\n",
        "input(); s = input().strip()\n",
        "for i in range(n):input()\n",
        "a = [int(i) for i in input().split()]\n",
        "for i in range(1,m+1):\n",
        "    if a[i] != a[i-1]:print(s[i-1],end = '')"
      ]
    },
    {
      "cell_type": "code",
      "execution_count": null,
      "metadata": {
        "id": "Y_f1hZhdetd5"
      },
      "outputs": [],
      "source": [
        "import sys;print(\"a\"*int(sys.stdin.read().split()[-1]))"
      ]
    },
    {
      "cell_type": "code",
      "execution_count": null,
      "metadata": {
        "id": "X8AmnfGEYdqc"
      },
      "outputs": [],
      "source": [
        "print(\"a\"*int(open(0).read().split()[-1]))"
      ]
    },
    {
      "cell_type": "markdown",
      "metadata": {
        "id": "La2pGsbner9p"
      },
      "source": [
        "# **a60a_midp1_knapsack**"
      ]
    },
    {
      "cell_type": "code",
      "execution_count": null,
      "metadata": {
        "colab": {
          "base_uri": "https://localhost:8080/"
        },
        "id": "W_pZ9pvofG9h",
        "outputId": "8bda4ed8-e345-47ba-c024-d19441d63480"
      },
      "outputs": [
        {
          "name": "stdout",
          "output_type": "stream",
          "text": [
            "5 3\n",
            "6 9 5 4 3 \n",
            "2 3 1 1 2 \n",
            "0 0 0 0 \n",
            "0 0 6 6 \n",
            "0 0 6 9 \n",
            "0 5 6 11\n",
            "0 5 9 11 \n",
            "0 5 9 11\n",
            "34"
          ]
        }
      ],
      "source": [
        "import sys;(n,m),v,w,*t=[[*map(int,l.split())]for l in sys.stdin];a=[]\n",
        "for i in range(n,0,-1):\n",
        " if t[i-1][m]!=t[i][m]:m-=w[i-1];a+=[i]\n",
        "print(len(a), *a)"
      ]
    },
    {
      "cell_type": "markdown",
      "metadata": {
        "id": "4t6JEPjHmIhL"
      },
      "source": [
        "# **a60b_q1_diagsum**"
      ]
    },
    {
      "cell_type": "code",
      "execution_count": null,
      "metadata": {
        "id": "V7FY6o92mHfG"
      },
      "outputs": [],
      "source": [
        "n=int(input());l=[[*map(int,input().split())]for i in range(n)]\n",
        "for r in range(1,n):\n",
        " for c in range(1,n):l[r][c]+=max(l[r-1][c-1],0)\n",
        "print(max(map(max,l)))"
      ]
    },
    {
      "cell_type": "markdown",
      "metadata": {
        "id": "gI0n37P8qOLR"
      },
      "source": [
        "# **ex02m1_triangle**"
      ]
    },
    {
      "cell_type": "code",
      "execution_count": null,
      "metadata": {
        "colab": {
          "base_uri": "https://localhost:8080/"
        },
        "id": "dPvpOQYNqTNt",
        "outputId": "4cfbbaf3-b5a7-48dd-af09-656c027fa117"
      },
      "outputs": [
        {
          "name": "stdout",
          "output_type": "stream",
          "text": [
            "5\n",
            "7\n",
            "3 8\n",
            "8 1 0\n",
            "2 7 4 4\n",
            "4 5 2 6 5\n",
            "[[7], [10, 15], [18, 16, 15], [20, 25, 20, 19], [24, 30, 27, 26, 24]]\n",
            "30\n"
          ]
        }
      ],
      "source": [
        "n = int(input())\n",
        "\n",
        "t = []\n",
        "\n",
        "for _ in range(n):\n",
        "  t += [[*map(int, input().split())]]\n",
        "\n",
        "for r in range(1,n):\n",
        "  t[r][0] += t[r-1][0]\n",
        "  for c in range(1,r):\n",
        "    t[r][c] += max(t[r-1][c], t[r-1][c-1])\n",
        "  t[r][r] += t[r-1][r-1]\n",
        "\n",
        "print(max(t[-1]))"
      ]
    },
    {
      "cell_type": "code",
      "execution_count": null,
      "metadata": {
        "id": "7se4TdPPs88C"
      },
      "outputs": [],
      "source": [
        "n=int(input());l=[[*map(int,input().split())]for _ in range(n)][::-1]\n",
        "for i in range(1,n):\n",
        " for j in range(n-i):l[i][j]+=max(l[i-1][j],l[i-1][j+1])\n",
        "print(l[-1][0])"
      ]
    },
    {
      "cell_type": "markdown",
      "metadata": {
        "id": "OQoavqBau0_t"
      },
      "source": [
        "# **ex03m2_lis**"
      ]
    },
    {
      "cell_type": "code",
      "execution_count": null,
      "metadata": {
        "colab": {
          "base_uri": "https://localhost:8080/"
        },
        "id": "vH_HQatd0hUg",
        "outputId": "e98869a1-f675-4c07-fa8e-c4227120a6df"
      },
      "outputs": [
        {
          "name": "stdout",
          "output_type": "stream",
          "text": [
            "13\n",
            "7 0 10 21 1 6 22 4 3 5 9 8 71\n",
            "6\n"
          ]
        }
      ],
      "source": [
        "input();a=[*map(int,input().split())];b=list(range(min(a),max(a)+1));l=[0]*(len(b)+1)\n",
        "for i in range(len(a)):\n",
        " t=l[:]\n",
        " for j in range(len(b)):\n",
        "  if a[i]==b[j]:t[j+1]=max(l[j+1],max(l[:j+1])+1)\n",
        " l=t\n",
        "print(max(l))"
      ]
    },
    {
      "cell_type": "code",
      "execution_count": null,
      "metadata": {
        "colab": {
          "base_uri": "https://localhost:8080/"
        },
        "id": "c1daVfl9FeAQ",
        "outputId": "6501dc8b-3ea2-4989-f07e-f3aa49bab3b3"
      },
      "outputs": [
        {
          "name": "stdout",
          "output_type": "stream",
          "text": [
            "13\n",
            "7 0 10 21 1 6 22 4 3 5 9 8 71\n",
            "6\n"
          ]
        }
      ],
      "source": [
        "import bisect\n",
        "input()\n",
        "l=[]\n",
        "for n in map(int,input().split()):\n",
        " x=bisect.bisect_left(l,n);l[x:x+1]=[n]\n",
        "print(len(l))"
      ]
    },
    {
      "cell_type": "markdown",
      "metadata": {
        "id": "C0ym3g3CGSSr"
      },
      "source": [
        "# **ex03m1_billboard**"
      ]
    },
    {
      "cell_type": "code",
      "execution_count": null,
      "metadata": {
        "colab": {
          "base_uri": "https://localhost:8080/"
        },
        "id": "0A_CViMJGUQ7",
        "outputId": "242e6f95-6f3d-4e44-a042-bd7e5c49e102"
      },
      "outputs": [
        {
          "name": "stdout",
          "output_type": "stream",
          "text": [
            "10\n",
            "48 1 3 95 2 1 3 44 22 2\n",
            "190\n"
          ]
        }
      ],
      "source": [
        "input();l=[*map(int,input().split())]\n",
        "for i in range(2,len(l)):l[i]+=max(l[:i-1])\n",
        "print(max(l))"
      ]
    },
    {
      "cell_type": "code",
      "execution_count": null,
      "metadata": {
        "colab": {
          "base_uri": "https://localhost:8080/"
        },
        "id": "AG6PowrFHl8s",
        "outputId": "1125cb47-c78a-4633-c984-4d8d6557e062"
      },
      "outputs": [
        {
          "name": "stdout",
          "output_type": "stream",
          "text": [
            "10\n",
            "48 1 3 95 2 1 3 44 22 2\n",
            "188\n"
          ]
        }
      ],
      "source": [
        "x=input;x();l=[*map(int,x().split())];i=2\n",
        "while i<len(l):l[i]+=max(l[:i-1]);i+=1\n",
        "print(max(l))"
      ]
    },
    {
      "cell_type": "code",
      "execution_count": null,
      "metadata": {
        "id": "5MgnmS1GI-aK"
      },
      "outputs": [],
      "source": [
        "l=[*map(int,open(0).read().split()[1:])];i=2\n",
        "while i<len(l):l[i]+=max(l[:i-1]);i+=1\n",
        "print(max(l))"
      ]
    },
    {
      "cell_type": "markdown",
      "metadata": {
        "id": "FRkRYwWfh5Za"
      },
      "source": [
        "# **ex03h1_square**"
      ]
    },
    {
      "cell_type": "code",
      "execution_count": null,
      "metadata": {
        "colab": {
          "base_uri": "https://localhost:8080/"
        },
        "id": "0Pg_2SFih8j0",
        "outputId": "67e411ff-89c6-48ad-e574-95501e17a46d"
      },
      "outputs": [
        {
          "name": "stdout",
          "output_type": "stream",
          "text": [
            "5 5\n",
            "11111\n",
            "11111\n",
            "10011\n",
            "11100\n",
            "10110\n",
            "Looking at r3 c3: min([1, 0, 0])\n",
            "Looking at r3 c2: min([1, 1, 0])\n",
            "Looking at r3 c1: min([0, 1, 1])\n",
            "Looking at r3 c0: min([1, 0, 1])\n",
            "Looking at r2 c3: min([0, 0, 1])\n",
            "Looking at r2 c2: min([1, 0, 1])\n",
            "Looking at r2 c1: min([1, 1, 0])\n",
            "Looking at r2 c0: min([1, 1, 0])\n",
            "Looking at r1 c3: min([1, 1, 1])\n",
            "Looking at r1 c2: min([0, 1, 2])\n",
            "Looking at r1 c1: min([0, 0, 1])\n",
            "Looking at r1 c0: min([1, 0, 1])\n",
            "Looking at r0 c3: min([2, 1, 1])\n",
            "Looking at r0 c2: min([1, 2, 2])\n",
            "Looking at r0 c1: min([1, 1, 2])\n",
            "Looking at r0 c0: min([1, 1, 2])\n",
            "[2, 2, 2, 2, 1]\n",
            "[1, 1, 1, 2, 1]\n",
            "[1, 0, 0, 1, 1]\n",
            "[1, 1, 1, 0, 0]\n",
            "[1, 0, 1, 1, 0]\n",
            "2\n"
          ]
        }
      ],
      "source": [
        "n,m=[*map(int, input().split())];t=[[*map(int, list(input()))]for i in range(n)]\n",
        "for r in range(n-2,-1,-1):\n",
        "  for c in range(m-2,-1,-1):t[r][c]*=min([t[r+1][c],t[r+1][c+1],t[r][c+1]])+1\n",
        "print(max(map(max,t)))"
      ]
    },
    {
      "cell_type": "code",
      "execution_count": null,
      "metadata": {
        "colab": {
          "base_uri": "https://localhost:8080/"
        },
        "id": "ckpZI73mm5TS",
        "outputId": "98833da4-00ff-464f-d71a-75de29a2811b"
      },
      "outputs": [
        {
          "name": "stdout",
          "output_type": "stream",
          "text": [
            "5\n",
            "4\n",
            "3\n",
            "2\n",
            "1\n",
            "0\n"
          ]
        }
      ],
      "source": [
        "for i in range(5,-1,-1):\n",
        "  print(i)"
      ]
    },
    {
      "cell_type": "markdown",
      "metadata": {
        "id": "LbBaqvWUpv1r"
      },
      "source": [
        "# **a60a_midp3_bigger**"
      ]
    },
    {
      "cell_type": "code",
      "execution_count": null,
      "metadata": {
        "id": "DegXCrWkp3mp"
      },
      "outputs": [],
      "source": [
        "x=input;x();l=[*map(int,x().split())];i=3\n",
        "while i<len(l):l[i]+=max(l[:i-2]);i+=1\n",
        "print(max(l))"
      ]
    },
    {
      "cell_type": "markdown",
      "metadata": {
        "id": "i-HMnpmzqMU1"
      },
      "source": [
        "# **a60a_midp4_walk**"
      ]
    },
    {
      "cell_type": "code",
      "execution_count": null,
      "metadata": {
        "colab": {
          "base_uri": "https://localhost:8080/"
        },
        "id": "RfHRFW8GqOG7",
        "outputId": "29f2682c-b3b6-4fd8-82fe-7fe0789cf3e0"
      },
      "outputs": [
        {
          "name": "stdout",
          "output_type": "stream",
          "text": [
            "3 3\n",
            "1 1 10\n",
            "1 7 10\n",
            "1 10 20\n",
            "[[1, 10, 20], [21, 47, 10], [95, 1, 10]]\n",
            "95\n"
          ]
        }
      ],
      "source": [
        "n,m=map(int,input().split())\n",
        "l=[[*map(int,input().split())]for _ in range(n)]\n",
        "for r in range(0,n):\n",
        "  if r>0:l[r][0]+=l[r-1][0]\n",
        "  for c in range(1,m):\n",
        "    if r==0:l[0][c]+=l[0][c-1]\n",
        "    else:l[r][c]+=max(max(l[r-1][c],l[r][c-1]),l[r][c]+l[r-1][c-1])\n",
        "print(l[-1][-1])"
      ]
    },
    {
      "cell_type": "code",
      "execution_count": null,
      "metadata": {
        "id": "noeOSlsYtPZi"
      },
      "outputs": [],
      "source": [
        "x=lambda:input().split();n,m=map(int,x());l=[[0]*(m+1)]+[[0]+[*map(int,x())]for _ in range(n)];a=0\n",
        "for r in range(1,n+1):\n",
        "  for c in range(1,m+1):l[r][c]+=max(max(l[r-1][c],l[r][c-1]),l[r][c]*(r!=1and c!=1)+l[r-1][c-1]);a=max(a,l[r][c]);\n",
        "print(a)"
      ]
    },
    {
      "cell_type": "markdown",
      "metadata": {
        "id": "0BKMF10s3v6N"
      },
      "source": [
        "# **ex03e3_coin**"
      ]
    },
    {
      "cell_type": "code",
      "execution_count": null,
      "metadata": {
        "id": "QBT9YOQ-3yk_"
      },
      "outputs": [],
      "source": [
        "n,m=map(int,input().split());t=[0]+[m]*m;l=[*map(int,input().split())]\n",
        "for i in range(m+1):\n",
        "\tfor j in l:\n",
        "\t\tif i+j<=m:t[i+j]=min(t[i+j],t[i]+1)\n",
        "print(t[m])"
      ]
    },
    {
      "cell_type": "markdown",
      "metadata": {
        "id": "I14dDKjrA8qb"
      },
      "source": [
        "# **a60b_mid_p2_rope**"
      ]
    },
    {
      "cell_type": "code",
      "execution_count": null,
      "metadata": {
        "colab": {
          "base_uri": "https://localhost:8080/"
        },
        "id": "ceWcOASGA9zm",
        "outputId": "e36a20b8-1d3c-4b67-a49d-e17378e558c6"
      },
      "outputs": [
        {
          "name": "stdout",
          "output_type": "stream",
          "text": [
            "10 5 4 3\n",
            "13\n"
          ]
        }
      ],
      "source": [
        "x=input().split();m=int(x[0]);t=[0]+[m]*m;l=[*map(int,x[1:])]\n",
        "for i in range(m+1):\n",
        "\tfor j in l:\n",
        "\t\tif i+j<=m:t[i+j]=max(t[i+j],t[i]+1)\n",
        "print(t[m])"
      ]
    },
    {
      "cell_type": "code",
      "execution_count": null,
      "metadata": {
        "colab": {
          "base_uri": "https://localhost:8080/"
        },
        "id": "2meGd0-HCIJz",
        "outputId": "bdc15b03-bf35-4baf-f0df-5530040ea5e1"
      },
      "outputs": [
        {
          "name": "stdout",
          "output_type": "stream",
          "text": [
            "10 5 4 3\n",
            "3\n"
          ]
        }
      ],
      "source": [
        "n,*a=map(int,input().split());A=[i in a for i in range(4000)]\n",
        "for i in range(n):\n",
        "    for j in a:\n",
        "      if A[i]:A[i+j]=max(A[i+j],A[i]+1)\n",
        "print(A[n])"
      ]
    },
    {
      "cell_type": "markdown",
      "metadata": {
        "id": "9KTOro6SFJ6M"
      },
      "source": [
        "# **a60b_mid_p3_divide**"
      ]
    },
    {
      "cell_type": "code",
      "execution_count": null,
      "metadata": {
        "colab": {
          "base_uri": "https://localhost:8080/"
        },
        "id": "9a66nHQyFOn8",
        "outputId": "8844f0fd-af8e-4959-ae8c-714700f66eb2"
      },
      "outputs": [
        {
          "name": "stdout",
          "output_type": "stream",
          "text": [
            "499 23\n",
            "1432\n"
          ]
        }
      ],
      "source": [
        "import math;f=math.factorial;n,k=map(int,input().split());s=0;j=0\n",
        "while j<=k:s+=pow(-1,j)*(pow(k-j,n)*f(k)//(f(k-j)*f(j)));j+=1\n",
        "print(s//f(k)%1997)"
      ]
    },
    {
      "cell_type": "markdown",
      "metadata": {
        "id": "2xVryhu6ITLZ"
      },
      "source": [
        "# **a62_q1a_jumping**"
      ]
    },
    {
      "cell_type": "code",
      "execution_count": null,
      "metadata": {
        "id": "GD_UJoPjIYsS"
      },
      "outputs": [],
      "source": [
        "n,*l=[*map(int,open(0).read().split())]\n",
        "for i in range(1,n):l[i]+=max(l[max(0,i-3):i])\n",
        "print(l[-1])"
      ]
    },
    {
      "cell_type": "markdown",
      "metadata": {
        "id": "JaljVbexJlQb"
      },
      "source": [
        "# **a62_q1b_chocolate**"
      ]
    },
    {
      "cell_type": "code",
      "execution_count": null,
      "metadata": {
        "colab": {
          "base_uri": "https://localhost:8080/"
        },
        "id": "-anfGRlSJqYa",
        "outputId": "c2c371c6-51a9-47f6-b2b5-28d60bf73b92"
      },
      "outputs": [
        {
          "name": "stdout",
          "output_type": "stream",
          "text": [
            "10 2\n",
            "1 2\n",
            "89\n"
          ]
        }
      ],
      "source": [
        "# n,m,*l=map(int,open(0).read().split())\n",
        "\n",
        "n,m=map(int,input().split())\n",
        "l=[*map(int,input().split())]\n",
        "\n",
        "d=[1]+[0]*10000\n",
        "for i in range(1,n+1):\n",
        "  for x in l:\n",
        "    if x<=i:d[i]=(d[i]+d[i-x])%1000003\n",
        "print(d[n])"
      ]
    },
    {
      "cell_type": "markdown",
      "metadata": {
        "id": "-_x8ZaKyOxPK"
      },
      "source": [
        "# **ex02m2_barcode**"
      ]
    },
    {
      "cell_type": "code",
      "execution_count": null,
      "metadata": {
        "id": "4qW0zDF_Owft"
      },
      "outputs": [],
      "source": [
        "N,M,K=[*map(int,input().split())]\n",
        "c=[[0]*(K+1) for i in range(N)]\n",
        "c[0][0] = 1\n",
        "for k in range(K):\n",
        " for n in range(N):\n",
        "   for m in range(1,M+1):\n",
        "    if n+m>=N:break\n",
        "    c[n+m][k+1]+=c[n][k]\n",
        "print(sum([c[-i][K]for i in range(1,min(M+1,N+1))]))"
      ]
    },
    {
      "cell_type": "code",
      "execution_count": null,
      "metadata": {
        "colab": {
          "base_uri": "https://localhost:8080/"
        },
        "id": "dH5dGWlgRZ3h",
        "outputId": "7be77a29-e948-4fb1-a418-c8d366df9913"
      },
      "outputs": [
        {
          "name": "stdout",
          "output_type": "stream",
          "text": [
            "7 9 4\n",
            "15\n"
          ]
        }
      ],
      "source": [
        "def f(i,p,m,k):\n",
        " x=(i,p,m,k)\n",
        " if x not in d:d[x]=int(k==K)if i==N else f(i+1,1-p,1,k+1)if m==M else f(i+1,p,m+1,k)+f(i+1,1-p,1,k+1)\n",
        " return d[x]\n",
        "N,M,K=map(int,input().split());d={};print(f(1,0,1,0))"
      ]
    },
    {
      "cell_type": "markdown",
      "metadata": {
        "id": "haYlGQizatSM"
      },
      "source": [
        "# **ex03e2_mcm**"
      ]
    },
    {
      "cell_type": "code",
      "execution_count": null,
      "metadata": {
        "colab": {
          "base_uri": "https://localhost:8080/"
        },
        "id": "qzpfUpPZaw4e",
        "outputId": "5dc7a0e1-343d-4eec-9640-8f25952f4553"
      },
      "outputs": [
        {
          "name": "stdout",
          "output_type": "stream",
          "text": [
            "3\n",
            "10 10 10 1\n",
            "2\n",
            "1\n",
            "200\n"
          ]
        }
      ],
      "source": [
        "# import sys;n,*l=[*map(int,sys.stdin.read().split())]\n",
        "n=int(input())\n",
        "l=[*map(int,input().split())]\n",
        "k=min(l);t=l.index(k)\n",
        "def f(n):t=l[n-1]*l[n]*l[n+1];l[n]=k;return t\n",
        "s=0\n",
        "for i in range(t-1,0,-1):s+=f(i)\n",
        "for i in range(t+1,n):s+=f(i)\n",
        "print(s+k*l[0]*l[-1]if t!=n and t!=0 else s)"
      ]
    },
    {
      "cell_type": "markdown",
      "metadata": {
        "id": "f7_UwwmHfHwO"
      },
      "source": [
        "# **a63_q1a_101**"
      ]
    },
    {
      "cell_type": "code",
      "execution_count": null,
      "metadata": {
        "id": "5d0TFpHQfJPu"
      },
      "outputs": [],
      "source": [
        "t=[1,2,4,7]\n",
        "m=[[0,1,0,0],[0,0,1,0],[0,0,0,1],[1,0,1,1]]\n",
        "n=int(input())\n",
        "k=100000007\n",
        "while n!= 0:\n",
        "  if n&1:t=[sum(m[i][j]*t[j]for j in range(4))%k for i in range(4)]\n",
        "  m=[[sum(m[i][k]*m[k][j]for k in range(4))%k for j in range(4)]for i in range(4)];n>>=1\n",
        "print(t[0])"
      ]
    },
    {
      "cell_type": "markdown",
      "metadata": {
        "id": "wnDpmpVKisgT"
      },
      "source": [
        "# **a63_q1a_buffet**"
      ]
    },
    {
      "cell_type": "code",
      "execution_count": null,
      "metadata": {
        "id": "IzI2s58kivOK"
      },
      "outputs": [],
      "source": [
        "import sys,bisect\n",
        "x=lambda:[*map(int,input().split())]\n",
        "N,K,M=x();t=[0]\n",
        "for e in x():t.append(t[-1]+e-M) \n",
        "for i in range(K):P,W=x();print(bisect.bisect_left(t,W+t[P-1]))"
      ]
    },
    {
      "cell_type": "markdown",
      "metadata": {
        "id": "iak-JJH-fZZ6"
      },
      "source": [
        "# QUIZ"
      ]
    },
    {
      "cell_type": "code",
      "execution_count": null,
      "metadata": {
        "id": "EIwNyKpUgo1x"
      },
      "outputs": [],
      "source": []
    },
    {
      "cell_type": "code",
      "execution_count": null,
      "metadata": {
        "colab": {
          "base_uri": "https://localhost:8080/"
        },
        "id": "vRGQhFAUfbac",
        "outputId": "cf8c8833-29b8-4c41-896e-8091a13f3ce8"
      },
      "outputs": [
        {
          "name": "stdout",
          "output_type": "stream",
          "text": [
            "4 5\n",
            "1 2 3 4\n",
            "4 16\n",
            "4 16 16\n",
            "8 4 8\n",
            "Add -1\n",
            "4 4 4\n",
            "Add -1\n",
            "2 2 2\n",
            "4\n",
            "9 7\n",
            "9 7 16\n",
            "Add -1\n",
            "1 7 8\n",
            "3 1 4\n",
            "Add -1\n",
            "1 1 2\n",
            "1\n",
            "4 12\n",
            "4 12 16\n",
            "4 4 8\n",
            "4 4 4\n",
            "Add -1\n",
            "2 2 2\n",
            "-4\n",
            "5 5\n",
            "5 5 16\n",
            "5 5 8\n",
            "Add -1\n",
            "1 1 4\n",
            "1 1 2\n",
            "-1\n",
            "8 1\n",
            "8 1 16\n",
            "8 1 8\n",
            "Add -1\n",
            "4 1 4\n",
            "Add -1\n",
            "2 1 2\n",
            "3\n"
          ]
        }
      ],
      "source": [
        "n, m = map(int,input().split())\n",
        "\n",
        "a,b,c,d = map(int,input().split())\n",
        "\n",
        "def getV(row,col,s):\n",
        "  print(row, col, s)\n",
        "  \n",
        "  if s == 2:\n",
        "    if row == 1 and col == 1:\n",
        "      return a\n",
        "    elif row == 1 and col == 2:\n",
        "      return b\n",
        "    elif row == 2 and col == 1:\n",
        "      return c\n",
        "    elif row == 2 and col == 2:\n",
        "      return d\n",
        "\n",
        "  mid = s//2\n",
        "\n",
        "  if row > mid:\n",
        "    if col > mid:\n",
        "      return -1 * getV(col-mid, row-mid, mid)\n",
        "    else:\n",
        "      return -1 * getV(row-mid, col, mid)\n",
        "  else:\n",
        "    if col > mid:\n",
        "      return getV(col-mid, row, mid)\n",
        "    else:\n",
        "      return getV(row, col, mid)\n",
        "\n",
        "for i in range(m):\n",
        "  row, col = map(int,input().split())\n",
        "  print(getV(row,col,2**n))"
      ]
    },
    {
      "cell_type": "code",
      "execution_count": null,
      "metadata": {
        "colab": {
          "base_uri": "https://localhost:8080/"
        },
        "id": "gxuf6tTWmDvi",
        "outputId": "7e5cfc3b-c828-4ae2-a942-d178ede1e541"
      },
      "outputs": [
        {
          "name": "stdout",
          "output_type": "stream",
          "text": [
            "500000 10 10 500000\n",
            "100 200 300 400 500 600 700 800 900 1000\n",
            "2 2 2 2 2 2 2 2 2 2\n",
            "Shot at 100\n",
            "Shot at 200\n",
            "Shot at 300\n",
            "Shot at 400\n",
            "Shot at 500\n",
            "Shot at 600\n",
            "Shot at 700\n",
            "Shot at 800\n",
            "Shot at 900\n",
            "Shot at 1000\n",
            "10\n"
          ]
        }
      ],
      "source": [
        "n, m, k, w = map(int, input().split())\n",
        "\n",
        "p = [*map(int, input().split())]\n",
        "h = [*map(int, input().split())]\n",
        "\n",
        "d = {}\n",
        "\n",
        "g = set()\n",
        "\n",
        "for i in range(len(p)):\n",
        "  if p[i] not in d:\n",
        "    d[p[i]] = h[i]\n",
        "  else:\n",
        "    d[p[i]] += h[i]\n",
        "\n",
        "def getAllHealth():\n",
        "  s = 0\n",
        "  for j in d:\n",
        "    s += d[j]\n",
        "  return s\n",
        "\n",
        "while m and getAllHealth() > 0:\n",
        "  for j in d:\n",
        "    if d[j] != 0:\n",
        "      if j not in g:\n",
        "        print(f\"Shot at {j}\")\n",
        "        d[j] -= 1\n",
        "        g.add(j)\n",
        "      else:\n",
        "        for k in range(j-w,j+w+1):\n",
        "          if k > 0 and k < n and k not in g:\n",
        "            print(f\"Shot at {k}\")\n",
        "            d[j] -= 1\n",
        "            g.add(k)\n",
        "            break\n",
        "      m-=1\n",
        "\n",
        "      if m < 1:\n",
        "        break\n",
        "    # print(m)\n",
        "\n",
        "\n",
        "print(getAllHealth())"
      ]
    },
    {
      "cell_type": "code",
      "execution_count": null,
      "metadata": {
        "id": "BTyhwtT7oPut"
      },
      "outputs": [],
      "source": [
        "# n,m,k,w = map(int,input().split())\n",
        "# p= list(map(int,input().split()))\n",
        "# h= list(map(int,input().split()))\n",
        "# t= list(map(int,input().split()))\n",
        "# for i in range(k):\n",
        "#         for j in range(m):\n",
        "#             if t[i]-w<=p[j]<=t[i]+w:\n",
        "#                 h[j]-=1\n",
        "#                 break\n",
        "# print(sum(h))"
      ]
    },
    {
      "cell_type": "code",
      "execution_count": null,
      "metadata": {
        "colab": {
          "base_uri": "https://localhost:8080/",
          "height": 133
        },
        "id": "lBYRlOwtnfKK",
        "outputId": "ef624d5d-1a52-4b2c-839c-be94db645526"
      },
      "outputs": [
        {
          "ename": "SyntaxError",
          "evalue": "ignored",
          "output_type": "error",
          "traceback": [
            "\u001b[0;36m  File \u001b[0;32m\"<ipython-input-6-d90aac61a936>\"\u001b[0;36m, line \u001b[0;32m3\u001b[0m\n\u001b[0;31m    for j in range(m): if t[i]-w<=p[j]<=t[i]+w:h[j]-=1;break\u001b[0m\n\u001b[0m                       ^\u001b[0m\n\u001b[0;31mSyntaxError\u001b[0m\u001b[0;31m:\u001b[0m invalid syntax\n"
          ]
        }
      ],
      "source": [
        "X=lambda: map(int,input().split());n,m,k,w=X();p,h,t=[[*X()],[*X()],[*X()]]\n",
        "for i in range(k):\n",
        "  for j in range(m):\n",
        "    if t[i]-w<=p[j]<=t[i]+w:h[j]-=1;break\n",
        "print(sum(h))"
      ]
    },
    {
      "cell_type": "markdown",
      "metadata": {
        "id": "-CYQCXpulFvb"
      },
      "source": [
        "# **QUIZ2**"
      ]
    },
    {
      "cell_type": "code",
      "execution_count": null,
      "metadata": {
        "colab": {
          "base_uri": "https://localhost:8080/"
        },
        "id": "pkCbYNfllKWr",
        "outputId": "e2b68898-9726-42d7-9af4-d9520206bbe0"
      },
      "outputs": [
        {
          "name": "stdout",
          "output_type": "stream",
          "text": [
            "5 3\n",
            "9 1\n",
            "4 5\n",
            "9 3\n",
            "8 3\n",
            "7 7\n",
            "1\n",
            "4\n",
            "15\n",
            "8\n",
            "8\n",
            "7\n"
          ]
        }
      ],
      "source": [
        "import bisect\n",
        "n,m=map(int,input().split())\n",
        "t={}\n",
        "for i in range(n):\n",
        "  a,b=map(int,input().split())\n",
        "  if a in t:\n",
        "    t[a] += b\n",
        "  else:\n",
        "    t[a] = b\n",
        "\n",
        "p=sorted(t)\n",
        "\n",
        "s=[0]*len(p)\n",
        "\n",
        "s[0]=t[p[0]]\n",
        "\n",
        "for j in range(1,len(p)):\n",
        "  s[j] = t[p[j]] + s[j-1]\n",
        "\n",
        "for k in range(m):\n",
        "  q=int(input())\n",
        "  print(p[bisect.bisect_left(s,q)])"
      ]
    },
    {
      "cell_type": "code",
      "execution_count": null,
      "metadata": {
        "colab": {
          "base_uri": "https://localhost:8080/",
          "height": 389
        },
        "id": "_NjtJzJT9--7",
        "outputId": "a3748f23-2a84-4ca3-fe89-dba2d79b0afb"
      },
      "outputs": [
        {
          "ename": "KeyboardInterrupt",
          "evalue": "ignored",
          "output_type": "error",
          "traceback": [
            "\u001b[0;31m---------------------------------------------------------------------------\u001b[0m",
            "\u001b[0;31mKeyboardInterrupt\u001b[0m                         Traceback (most recent call last)",
            "\u001b[0;32m<ipython-input-73-0bbe961232b9>\u001b[0m in \u001b[0;36m<module>\u001b[0;34m\u001b[0m\n\u001b[0;32m----> 1\u001b[0;31m \u001b[0;32mimport\u001b[0m \u001b[0mbisect\u001b[0m\u001b[0;34m;\u001b[0m\u001b[0mn\u001b[0m\u001b[0;34m,\u001b[0m\u001b[0mm\u001b[0m\u001b[0;34m=\u001b[0m\u001b[0mmap\u001b[0m\u001b[0;34m(\u001b[0m\u001b[0mint\u001b[0m\u001b[0;34m,\u001b[0m\u001b[0minput\u001b[0m\u001b[0;34m(\u001b[0m\u001b[0;34m)\u001b[0m\u001b[0;34m.\u001b[0m\u001b[0msplit\u001b[0m\u001b[0;34m(\u001b[0m\u001b[0;34m)\u001b[0m\u001b[0;34m)\u001b[0m\u001b[0;34m;\u001b[0m\u001b[0mt\u001b[0m\u001b[0;34m=\u001b[0m\u001b[0;34m{\u001b[0m\u001b[0;34m}\u001b[0m\u001b[0;34m\u001b[0m\u001b[0;34m\u001b[0m\u001b[0m\n\u001b[0m\u001b[1;32m      2\u001b[0m \u001b[0;32mfor\u001b[0m \u001b[0mi\u001b[0m \u001b[0;32min\u001b[0m \u001b[0mrange\u001b[0m\u001b[0;34m(\u001b[0m\u001b[0mn\u001b[0m\u001b[0;34m)\u001b[0m\u001b[0;34m:\u001b[0m\u001b[0ma\u001b[0m\u001b[0;34m,\u001b[0m\u001b[0mb\u001b[0m\u001b[0;34m=\u001b[0m\u001b[0mmap\u001b[0m\u001b[0;34m(\u001b[0m\u001b[0mint\u001b[0m\u001b[0;34m,\u001b[0m\u001b[0minput\u001b[0m\u001b[0;34m(\u001b[0m\u001b[0;34m)\u001b[0m\u001b[0;34m.\u001b[0m\u001b[0msplit\u001b[0m\u001b[0;34m(\u001b[0m\u001b[0;34m)\u001b[0m\u001b[0;34m)\u001b[0m\u001b[0;34m;\u001b[0m\u001b[0mt\u001b[0m\u001b[0;34m.\u001b[0m\u001b[0msetdefault\u001b[0m\u001b[0;34m(\u001b[0m\u001b[0ma\u001b[0m\u001b[0;34m,\u001b[0m\u001b[0;36m0\u001b[0m\u001b[0;34m)\u001b[0m\u001b[0;34m;\u001b[0m\u001b[0mt\u001b[0m\u001b[0;34m[\u001b[0m\u001b[0ma\u001b[0m\u001b[0;34m]\u001b[0m \u001b[0;34m+=\u001b[0m \u001b[0mb\u001b[0m\u001b[0;34m\u001b[0m\u001b[0;34m\u001b[0m\u001b[0m\n\u001b[1;32m      3\u001b[0m \u001b[0mp\u001b[0m\u001b[0;34m=\u001b[0m\u001b[0msorted\u001b[0m\u001b[0;34m(\u001b[0m\u001b[0mt\u001b[0m\u001b[0;34m)\u001b[0m\u001b[0;34m;\u001b[0m\u001b[0ms\u001b[0m\u001b[0;34m=\u001b[0m\u001b[0;34m[\u001b[0m\u001b[0mt\u001b[0m\u001b[0;34m[\u001b[0m\u001b[0mp\u001b[0m\u001b[0;34m[\u001b[0m\u001b[0;36m0\u001b[0m\u001b[0;34m]\u001b[0m\u001b[0;34m]\u001b[0m\u001b[0;34m]\u001b[0m\u001b[0;34m*\u001b[0m\u001b[0mlen\u001b[0m\u001b[0;34m(\u001b[0m\u001b[0mp\u001b[0m\u001b[0;34m)\u001b[0m\u001b[0;34m\u001b[0m\u001b[0;34m\u001b[0m\u001b[0m\n\u001b[1;32m      4\u001b[0m \u001b[0;32mfor\u001b[0m \u001b[0mj\u001b[0m \u001b[0;32min\u001b[0m \u001b[0mrange\u001b[0m\u001b[0;34m(\u001b[0m\u001b[0;36m1\u001b[0m\u001b[0;34m,\u001b[0m\u001b[0mlen\u001b[0m\u001b[0;34m(\u001b[0m\u001b[0mp\u001b[0m\u001b[0;34m)\u001b[0m\u001b[0;34m)\u001b[0m\u001b[0;34m:\u001b[0m\u001b[0ms\u001b[0m\u001b[0;34m[\u001b[0m\u001b[0mj\u001b[0m\u001b[0;34m]\u001b[0m\u001b[0;34m=\u001b[0m\u001b[0mt\u001b[0m\u001b[0;34m[\u001b[0m\u001b[0mp\u001b[0m\u001b[0;34m[\u001b[0m\u001b[0mj\u001b[0m\u001b[0;34m]\u001b[0m\u001b[0;34m]\u001b[0m\u001b[0;34m+\u001b[0m\u001b[0ms\u001b[0m\u001b[0;34m[\u001b[0m\u001b[0mj\u001b[0m\u001b[0;34m-\u001b[0m\u001b[0;36m1\u001b[0m\u001b[0;34m]\u001b[0m\u001b[0;34m\u001b[0m\u001b[0;34m\u001b[0m\u001b[0m\n\u001b[1;32m      5\u001b[0m \u001b[0;32mfor\u001b[0m \u001b[0mk\u001b[0m \u001b[0;32min\u001b[0m \u001b[0mrange\u001b[0m\u001b[0;34m(\u001b[0m\u001b[0mm\u001b[0m\u001b[0;34m)\u001b[0m\u001b[0;34m:\u001b[0m\u001b[0mq\u001b[0m\u001b[0;34m=\u001b[0m\u001b[0mint\u001b[0m\u001b[0;34m(\u001b[0m\u001b[0minput\u001b[0m\u001b[0;34m(\u001b[0m\u001b[0;34m)\u001b[0m\u001b[0;34m)\u001b[0m\u001b[0;34m;\u001b[0m\u001b[0mprint\u001b[0m\u001b[0;34m(\u001b[0m\u001b[0mp\u001b[0m\u001b[0;34m[\u001b[0m\u001b[0mbisect\u001b[0m\u001b[0;34m.\u001b[0m\u001b[0mbisect_left\u001b[0m\u001b[0;34m(\u001b[0m\u001b[0ms\u001b[0m\u001b[0;34m,\u001b[0m\u001b[0mq\u001b[0m\u001b[0;34m)\u001b[0m\u001b[0;34m]\u001b[0m\u001b[0;34m)\u001b[0m\u001b[0;34m\u001b[0m\u001b[0;34m\u001b[0m\u001b[0m\n",
            "\u001b[0;32m/usr/local/lib/python3.8/dist-packages/ipykernel/kernelbase.py\u001b[0m in \u001b[0;36mraw_input\u001b[0;34m(self, prompt)\u001b[0m\n\u001b[1;32m    858\u001b[0m                 \u001b[0;34m\"raw_input was called, but this frontend does not support input requests.\"\u001b[0m\u001b[0;34m\u001b[0m\u001b[0;34m\u001b[0m\u001b[0m\n\u001b[1;32m    859\u001b[0m             )\n\u001b[0;32m--> 860\u001b[0;31m         return self._input_request(str(prompt),\n\u001b[0m\u001b[1;32m    861\u001b[0m             \u001b[0mself\u001b[0m\u001b[0;34m.\u001b[0m\u001b[0m_parent_ident\u001b[0m\u001b[0;34m,\u001b[0m\u001b[0;34m\u001b[0m\u001b[0;34m\u001b[0m\u001b[0m\n\u001b[1;32m    862\u001b[0m             \u001b[0mself\u001b[0m\u001b[0;34m.\u001b[0m\u001b[0m_parent_header\u001b[0m\u001b[0;34m,\u001b[0m\u001b[0;34m\u001b[0m\u001b[0;34m\u001b[0m\u001b[0m\n",
            "\u001b[0;32m/usr/local/lib/python3.8/dist-packages/ipykernel/kernelbase.py\u001b[0m in \u001b[0;36m_input_request\u001b[0;34m(self, prompt, ident, parent, password)\u001b[0m\n\u001b[1;32m    902\u001b[0m             \u001b[0;32mexcept\u001b[0m \u001b[0mKeyboardInterrupt\u001b[0m\u001b[0;34m:\u001b[0m\u001b[0;34m\u001b[0m\u001b[0;34m\u001b[0m\u001b[0m\n\u001b[1;32m    903\u001b[0m                 \u001b[0;31m# re-raise KeyboardInterrupt, to truncate traceback\u001b[0m\u001b[0;34m\u001b[0m\u001b[0;34m\u001b[0m\u001b[0;34m\u001b[0m\u001b[0m\n\u001b[0;32m--> 904\u001b[0;31m                 \u001b[0;32mraise\u001b[0m \u001b[0mKeyboardInterrupt\u001b[0m\u001b[0;34m(\u001b[0m\u001b[0;34m\"Interrupted by user\"\u001b[0m\u001b[0;34m)\u001b[0m \u001b[0;32mfrom\u001b[0m \u001b[0;32mNone\u001b[0m\u001b[0;34m\u001b[0m\u001b[0;34m\u001b[0m\u001b[0m\n\u001b[0m\u001b[1;32m    905\u001b[0m             \u001b[0;32mexcept\u001b[0m \u001b[0mException\u001b[0m \u001b[0;32mas\u001b[0m \u001b[0me\u001b[0m\u001b[0;34m:\u001b[0m\u001b[0;34m\u001b[0m\u001b[0;34m\u001b[0m\u001b[0m\n\u001b[1;32m    906\u001b[0m                 \u001b[0mself\u001b[0m\u001b[0;34m.\u001b[0m\u001b[0mlog\u001b[0m\u001b[0;34m.\u001b[0m\u001b[0mwarning\u001b[0m\u001b[0;34m(\u001b[0m\u001b[0;34m\"Invalid Message:\"\u001b[0m\u001b[0;34m,\u001b[0m \u001b[0mexc_info\u001b[0m\u001b[0;34m=\u001b[0m\u001b[0;32mTrue\u001b[0m\u001b[0;34m)\u001b[0m\u001b[0;34m\u001b[0m\u001b[0;34m\u001b[0m\u001b[0m\n",
            "\u001b[0;31mKeyboardInterrupt\u001b[0m: Interrupted by user"
          ]
        }
      ],
      "source": [
        "import bisect;n,m=map(int,input().split());t={}\n",
        "for i in range(n):a,b=map(int,input().split());t.setdefault(a,0);t[a] += b\n",
        "p=sorted(t);s=[t[p[0]]]*len(p)\n",
        "for j in range(1,len(p)):s[j]=t[p[j]]+s[j-1]\n",
        "for k in range(m):q=int(input());print(p[bisect.bisect_left(s,q)])"
      ]
    },
    {
      "cell_type": "code",
      "execution_count": null,
      "metadata": {
        "id": "NQ2yMY9V0Jny"
      },
      "outputs": [],
      "source": [
        "import bisect,sys\n",
        "k=sys.stdin.readline\n",
        "n,q=map(int,k().split())\n",
        "a=sorted(list(map(int,k().split()))for _ in range(n))\n",
        "c=[0]\n",
        "for i in range(n):c+=[c[-1]+a[i][1]]\n",
        "while q:print(a[bisect.bisect(c,int(k())-1)-1][0]);q-=1"
      ]
    },
    {
      "cell_type": "code",
      "execution_count": null,
      "metadata": {
        "colab": {
          "base_uri": "https://localhost:8080/"
        },
        "id": "05J4YPq967KY",
        "outputId": "85e19ff9-3426-4934-e73b-d36f81a1e34f"
      },
      "outputs": [
        {
          "name": "stdout",
          "output_type": "stream",
          "text": [
            "5000 2\n",
            "39444389\n"
          ]
        }
      ],
      "source": [
        "n,k=map(int,input().split());t=[0]*(n+1)\n",
        "for i in range(k):t[i]=i+1\n",
        "for i in range(k,n+1):t[i] = t[i-1] + t[i-k]\n",
        "print(t[-1]%100000007)"
      ]
    },
    {
      "cell_type": "code",
      "execution_count": null,
      "metadata": {
        "colab": {
          "base_uri": "https://localhost:8080/"
        },
        "id": "0rwjddBrqwf_",
        "outputId": "bc5b5d2b-4683-47f6-92a2-66a2667581f9"
      },
      "outputs": [
        {
          "name": "stdout",
          "output_type": "stream",
          "text": [
            "4 2\n",
            "8\n"
          ]
        }
      ],
      "source": [
        "n,k=map(int,input().split());a=[]\n",
        "for i in range(n):m=i+2if i<k else a[-1]+a[-k];a+=[m]\n",
        "print(m%100000007)"
      ]
    },
    {
      "cell_type": "code",
      "execution_count": null,
      "metadata": {
        "colab": {
          "base_uri": "https://localhost:8080/"
        },
        "id": "68CSC4H1xGfN",
        "outputId": "0e68f316-62ad-4715-f03d-474b622e3941"
      },
      "outputs": [
        {
          "name": "stdout",
          "output_type": "stream",
          "text": [
            "4 2\n",
            "8\n"
          ]
        }
      ],
      "source": [
        "n,k=map(int,input().split());a=[]\n",
        "arr=[1]+[0]*(k-2)+[1]\n",
        "i = 2\n",
        "while i < n+1:\n",
        "    arr=[sum(arr[0:2])] + arr[2:k] + [arr[0]]\n",
        "    i+=1\n",
        "print(sum(arr)%100000007)"
      ]
    },
    {
      "cell_type": "code",
      "execution_count": null,
      "metadata": {
        "colab": {
          "base_uri": "https://localhost:8080/"
        },
        "id": "Yf3PKNh61tiP",
        "outputId": "8e0917e3-a553-4362-ae87-da8a1df034a6"
      },
      "outputs": [
        {
          "name": "stdout",
          "output_type": "stream",
          "text": [
            "8 5\n",
            "1 1 5 7 8\n",
            "7\n"
          ]
        }
      ],
      "source": [
        "import sys\n",
        "\n",
        "def read_ints():\n",
        "    # return list(map(int, sys.stdin.readline().split()))\n",
        "    return list(map(int, input().split()))\n",
        "\n",
        "def calc(l, r, arr):\n",
        "    if not arr or l+2 > r:\n",
        "        return 0\n",
        "    \n",
        "    n = len(arr)\n",
        "    u = (r-l+1) // 3\n",
        "    v = (r-l+2) // 3\n",
        "    l1 = l + u\n",
        "    l2 = l1 + v\n",
        "    a0, a12 = [], []\n",
        "    a1, a2 = [], []\n",
        "    for a in arr:\n",
        "        if a < l1:\n",
        "            a0.append(a)\n",
        "        elif a < l2:\n",
        "            a12.append(a)\n",
        "        else:\n",
        "            a2.append(a)\n",
        "    \n",
        "    res0 = calc(l, l1-1, a0)\n",
        "    res1 = calc(l1, l2-1, a1)\n",
        "    res2 = calc(l2, r, a2)\n",
        "    \n",
        "    return n + res0 + res1 + res2 - min(res0, res1, res2)\n",
        "\n",
        "w, n = read_ints()\n",
        "a = read_ints()\n",
        "print(calc(1, w, a))"
      ]
    },
    {
      "cell_type": "markdown",
      "metadata": {
        "id": "dC7Spa8mpq9g"
      },
      "source": [
        "# **ex05m1_cycle**"
      ]
    },
    {
      "cell_type": "code",
      "execution_count": null,
      "metadata": {
        "colab": {
          "base_uri": "https://localhost:8080/",
          "height": 478
        },
        "id": "HH0Zd8-QpxBT",
        "outputId": "802453ff-a541-41ee-b161-2c293a6607ca"
      },
      "outputs": [],
      "source": [
        "from collections import defaultdict\n",
        "\n",
        "class Graph:\n",
        "  def __init__(self, vertices):\n",
        "    self.V = vertices\n",
        "    self.graph = defaultdict(list)\n",
        "  \n",
        "  def addEdge(self, v, w):\n",
        "    self.graph[v].append(w)\n",
        "    self.graph[w].append(v)\n",
        " \n",
        "  def isCyclicUtil(self, v, visited, parent):\n",
        "    visited[v] = True\n",
        "    for i in self.graph[v]:\n",
        "      if visited[i] == False:\n",
        "        if(self.isCyclicUtil(i, visited, v)):\n",
        "          return True\n",
        "      elif parent != i:\n",
        "          return True\n",
        " \n",
        "    return False\n",
        " \n",
        "  def isCyclic(self):\n",
        "    visited = [False]*(self.V)\n",
        "    for i in range(self.V):\n",
        "      if visited[i] == False:\n",
        "        if(self.isCyclicUtil(i, visited, -1)) == True:\n",
        "          return True\n",
        "    return False\n",
        " \n",
        "n = int(input())\n",
        "\n",
        "for _ in range(n):\n",
        "  n, e = [*map(int, input().split())]\n",
        "  g = Graph(n)\n",
        "  for i in range(e):\n",
        "    a, b = [*map(int, input().split())]\n",
        "    g.addEdge(a, b)\n",
        "\n",
        "  if g.isCyclic():\n",
        "    print(\"YES\")\n",
        "  else:\n",
        "    print(\"NO\")"
      ]
    },
    {
      "cell_type": "code",
      "execution_count": null,
      "metadata": {},
      "outputs": [],
      "source": [
        "I=lambda:map(int,input().split());l=[]\n",
        "def f(i):\n",
        " global c,l\n",
        " if i in l[:-2]:c=1\n",
        " if i in l or c:return\n",
        " l+=[i]\n",
        " for j in d[i]:f(j)\n",
        " l.pop(-1)\n",
        "for i in range(int(input())):\n",
        " N,E=I();c=0;d={j:[]for j in range(N)}\n",
        " for j in range(E):a,b=I();d[a]+=[b];d[b]+=[a]\n",
        " for j in d:f(j)\n",
        " print('YES'if c else'NO')"
      ]
    },
    {
      "attachments": {},
      "cell_type": "markdown",
      "metadata": {},
      "source": [
        "# **ex05e1_shortest**"
      ]
    },
    {
      "cell_type": "code",
      "execution_count": 5,
      "metadata": {},
      "outputs": [
        {
          "name": "stdout",
          "output_type": "stream",
          "text": [
            "[[0, 0.0, 10, 11, 12], [1, 0.0, 9, 10, 11], [2, 0.0, 8, 9, 10], [3, 0.0, 7, 0.0, 11], [4, 5, 6, 0.0, 12]]\n",
            "12\n"
          ]
        }
      ],
      "source": [
        "r,c=map(int,input().split())\n",
        "l=[[1e4*(i=='.') for i in input()] for _ in [1]*r];l[0][0]=0\n",
        "q={(0,0)}\n",
        "while q:\n",
        "\tx,y=q.pop();a=l[x][y]\n",
        "\tfor x,y in [(x+i,y+j)for i,j in [(0,-1),(0,1),(-1,0),(1,0)]]:\n",
        "\t\tif r>x>=0<=y<c and l[x][y]>a+1:\n",
        "\t\t\tl[x][y]=a+1\n",
        "\t\t\tq|={(x,y)}\n",
        "a=l[-1][-1]\n",
        "print(l)\n",
        "print((a,-1)[a==1e4])"
      ]
    },
    {
      "cell_type": "code",
      "execution_count": null,
      "metadata": {},
      "outputs": [],
      "source": [
        "def F(G,R,C):\n",
        "  Q=[(0,0,0)];visited={(0,0)}\n",
        "  while len(Q)>0:\n",
        "    d,r,c=Q.pop(0)\n",
        "    if(r,c)==(R-1,C-1):return d\n",
        "    for x,y in [(c+x,r+y)for x,y in ((1,0),(-1,0),(0,1),(0,-1))]:\n",
        "      if(R>y>=0<=x<C)and G[y][x]and(y,x)not in visited:\n",
        "        visited|={(y,x)}\n",
        "        Q+=[(d+1,y,x)]\n",
        "  return -1\n",
        "r,c=map(int,input().split())\n",
        "G=[[t=='.'for t in input()]for _ in [1]*r]\n",
        "print(F(G,r,c))"
      ]
    },
    {
      "attachments": {},
      "cell_type": "markdown",
      "metadata": {},
      "source": [
        "# **ex05m2_connection**"
      ]
    },
    {
      "cell_type": "code",
      "execution_count": null,
      "metadata": {},
      "outputs": [],
      "source": [
        "I=lambda:map(int,input().split())\n",
        "n,e,k=I();d=[[]for _ in [1]*n]\n",
        "for i in [1]*e:a,b=I();d[a]+=[b];d[b]+=[a]\n",
        "def f(i,k):\n",
        " u={i}\n",
        " if k:\n",
        "  for j in d[i]:u|=f(j,k-1)\n",
        " return u\n",
        "print(max(len(f(i,k))for i in range(n)))"
      ]
    },
    {
      "attachments": {},
      "cell_type": "markdown",
      "metadata": {},
      "source": [
        "# **a60a_q3_component**"
      ]
    },
    {
      "cell_type": "code",
      "execution_count": 15,
      "metadata": {},
      "outputs": [
        {
          "name": "stdout",
          "output_type": "stream",
          "text": [
            "3\n"
          ]
        }
      ],
      "source": [
        "v,e=map(int,input().split())\n",
        "s=[{i+1}for i in range(v)]\n",
        "for _ in range(e):\n",
        "  a,b=map(int,input().split())\n",
        "  for i in range(len(s)):\n",
        "    if a in s[i]:\n",
        "      x = i\n",
        "    if b in s[i]:\n",
        "      y = i\n",
        "  if x != y:\n",
        "    s[x]|=s.pop(y)\n",
        "print(len(s))\n"
      ]
    },
    {
      "cell_type": "code",
      "execution_count": 17,
      "metadata": {},
      "outputs": [
        {
          "name": "stdout",
          "output_type": "stream",
          "text": [
            "2\n"
          ]
        }
      ],
      "source": [
        "I=lambda:map(int,input().split())\n",
        "v,e=I();p=[*range(v+1)]\n",
        "def f(i):\n",
        " while p[i]!=i:i=p[i]\n",
        " return i\n",
        "for i in range(e):\n",
        " a,b=I()\n",
        " if f(a)!=f(b):v-=1;p[f(b)]=f(a)\n",
        "print(v)"
      ]
    },
    {
      "attachments": {},
      "cell_type": "markdown",
      "metadata": {},
      "source": [
        "# **a62_q2a_pandemic**"
      ]
    },
    {
      "cell_type": "code",
      "execution_count": null,
      "metadata": {},
      "outputs": [],
      "source": [
        "import sys\n",
        "I=lambda:map(int,sys.stdin.readline().split())\n",
        "r,c,T=I()\n",
        "d=[[*I()] for _ in range(r)]\n",
        "for t in range(T):\n",
        "  z=0\n",
        "  for y in range(r):\n",
        "    for x in range(c):\n",
        "      if d[y][x] == 1:\n",
        "        z+=1\n",
        "        for j,k in [(0,1),(0,-1),(1,0),(-1,0)]:\n",
        "          if r>y+j>=0<=x+k<c and d[y+j][x+k]<1:\n",
        "            d[y+j][x+k]=1.5\n",
        "            z+=1\n",
        "  d = [[1 if y==1.5 else y for y in x] for x in d]\n",
        "print(z)"
      ]
    },
    {
      "cell_type": "code",
      "execution_count": null,
      "metadata": {},
      "outputs": [],
      "source": [
        "I=lambda:map(int,input().split())\n",
        "r,c,t=I()\n",
        "q=set()\n",
        "m=set()\n",
        "for i in range(r):\n",
        "\tl=[*I()]\n",
        "\tfor j in range(c):\n",
        "\t\tif l[j]==2:m.add((i,j))\n",
        "\t\tif l[j]==1:q.add((i,j))\n",
        "n=len(m)\n",
        "for _ in range(t+1):\n",
        "\tnq=set()\n",
        "\tm|=set(q)\n",
        "\twhile q:\n",
        "\t\ta,b=q.pop()\n",
        "\t\tfor x,y in (1,0),(-1,0),(0,1),(0,-1):\n",
        "\t\t\tx+=a;y+=b\n",
        "\t\t\tif r>x>=0<=y<c and (x,y) not in m:\n",
        "\t\t\t\tnq|={(x,y)}\n",
        "\tq=nq\n",
        "print(len(m)-n)"
      ]
    },
    {
      "attachments": {},
      "cell_type": "markdown",
      "metadata": {},
      "source": [
        "# **a62_q2a_line_graph**"
      ]
    },
    {
      "cell_type": "code",
      "execution_count": 54,
      "metadata": {},
      "outputs": [
        {
          "name": "stdout",
          "output_type": "stream",
          "text": [
            "1\n"
          ]
        }
      ],
      "source": [
        "I=lambda:map(int,input().split())\n",
        "v,e=I()\n",
        "s=set(range(v))\n",
        "l=[set()for _ in s]\n",
        "for _ in range(e):\n",
        "  a,b=I()\n",
        "  l[a]|={b};l[b]|={a}\n",
        "def r(b,x):\n",
        "\tif x not in s:return False\n",
        "\ts.remove(x)\n",
        "\tif len(l[x])==1:return True\n",
        "\tif len(l[x])>2:return False\n",
        "\ty=l[x]-{b}\n",
        "\tif len(y)>1:return False\n",
        "\telse:return r(x,y.pop())\n",
        "def f(x):\n",
        "\tif len(l[x])==0:return True\n",
        "\tif len(l[x])>2:return False\n",
        "\treturn all([r(x,i)for i in l[x]])\n",
        "ans=0\n",
        "while s:ans+=f(s.pop())\n",
        "print(ans)"
      ]
    },
    {
      "attachments": {},
      "cell_type": "markdown",
      "metadata": {},
      "source": [
        "# **a60b_q3_perimeter**"
      ]
    },
    {
      "cell_type": "code",
      "execution_count": null,
      "metadata": {},
      "outputs": [],
      "source": [
        "I=lambda:map(int,input().split());n,e,k=I();n+=1;d=[[]for _ in [1]*n];c=[1]*n;A=[0]*n;q=[0]\n",
        "for _ in [1]*e:a,b=I();d[a]+=[b];d[b]+=[a]\n",
        "while q:\n",
        " i=q.pop(0);c[i]=0\n",
        " for j in d[i]:\n",
        "  if c[j]:q+=[j];c[j]=0;A[j]=A[i]+1\n",
        "print(A.count(k))"
      ]
    },
    {
      "attachments": {},
      "cell_type": "markdown",
      "metadata": {},
      "source": [
        "# **a59_q3_hole**"
      ]
    },
    {
      "cell_type": "code",
      "execution_count": null,
      "metadata": {},
      "outputs": [],
      "source": [
        "def BFS(V, q, r, c):\n",
        "    h = 0\n",
        "    while len(q) != 0:\n",
        "        nq = []\n",
        "        for i, j in q:\n",
        "            if V[i][j] != 0:\n",
        "                if V[i][j] == 2:\n",
        "                    nq.append((i, j))\n",
        "                continue\n",
        "            V[i][j] = 1\n",
        "            if i == 0 or i == r-1 or j == 0 or j == c-1:\n",
        "                print(h)\n",
        "                return\n",
        "\n",
        "            for x, y in (-1, 0), (1, 0), (0, 1), (0, -1):\n",
        "                if V[i+x][j+y] != 1:\n",
        "                    nq.append((i+x, j+y))\n",
        "\n",
        "        if len(nq) == 0:\n",
        "            break\n",
        "\n",
        "        for cx, cy in nq:\n",
        "            if V[cx][cy] == 0:\n",
        "                break\n",
        "        else:\n",
        "            h += 1\n",
        "            for cx, cy in nq:\n",
        "                if V[cx][cy] == 2:\n",
        "                    V[cx][cy] = 0\n",
        "\n",
        "        q = nq\n",
        "    print(h)\n",
        "\n",
        "\n",
        "def I(): return [int(i)-1 for i in input().split()]\n",
        "\n",
        "\n",
        "N, a, b = I()\n",
        "N += 1\n",
        "r = 1000\n",
        "c = 1000\n",
        "\n",
        "V = [[0]*c for _ in range(r)]\n",
        "for i in range(N):\n",
        "    ir, ic = I()\n",
        "    V[ir][ic] = 2\n",
        "q = [(a, b)]\n",
        "BFS(V, q, r, c)\n"
      ]
    },
    {
      "cell_type": "code",
      "execution_count": 58,
      "metadata": {},
      "outputs": [
        {
          "name": "stdout",
          "output_type": "stream",
          "text": [
            "1\n"
          ]
        }
      ],
      "source": [
        "import sys,heapq as h\n",
        "I=lambda:map(int,sys.stdin.readline().split())\n",
        "N,a,b=I()\n",
        "a-=1;b-=1;n=1000;t=n-1\n",
        "r=[[0]*n for i in range(n)]\n",
        "l=[[n]*n for i in range(n)]\n",
        "for i in range(N):\n",
        "  x,y=I();r[x-1][y-1]=1\n",
        "l[a][b]=0\n",
        "Q=[(0,a,b)]\n",
        "while(1):\n",
        "  c,x,y=h.heappop(Q)\n",
        "  if not t>x>0<y<t:break\n",
        "  for i,j in (-1,0),(1,0),(0,-1),(0,1):\n",
        "    i+=x;j+=y\n",
        "    nc=l[x][y]+r[i][j]\n",
        "    if l[i][j]>nc:\n",
        "      l[i][j]=nc\n",
        "      h.heappush(Q,(nc,i,j))\n",
        "print(c)"
      ]
    },
    {
      "attachments": {},
      "cell_type": "markdown",
      "metadata": {},
      "source": [
        "# **a59_q3_cycle**"
      ]
    },
    {
      "cell_type": "code",
      "execution_count": null,
      "metadata": {},
      "outputs": [],
      "source": [
        "import sys\n",
        "n=int(input())\n",
        "G=[[]for i in [1]*n]\n",
        "w=[-1]*n\n",
        "while n:a,b=map(int,sys.stdin.readline().split());G[a]+=[b];G[b]+=[a];n-=1\n",
        "def f(G,p,c):\n",
        "  for v in G[c]:\n",
        "    if v!=p:\n",
        "      if w[v]!=-1:return w[c]-w[v]+1\n",
        "      w[v]=w[c]+1;x=f(G,c,v)\n",
        "      if x>0:return x\n",
        "  return -1\n",
        "print(f(G,-1,1))"
      ]
    },
    {
      "attachments": {},
      "cell_type": "markdown",
      "metadata": {},
      "source": [
        "# **ex05e3_catapult**"
      ]
    },
    {
      "cell_type": "code",
      "execution_count": 64,
      "metadata": {},
      "outputs": [
        {
          "name": "stdout",
          "output_type": "stream",
          "text": [
            "1 2 2\n"
          ]
        }
      ],
      "source": [
        "n=int(input());r=range(n);d={i:[*map(int,input().split())][1:]for i in r};s=[];u=set()\n",
        "def f(i):\n",
        " global s,u\n",
        " if i in u:return\n",
        " u|={i}\n",
        " for j in d[i]:f(j)\n",
        " s+=[i]\n",
        "for i in r:f(i)\n",
        "e={i:[]for i in range(n)}\n",
        "for i in r:\n",
        " for j in d[i]:e[j]+=[i]\n",
        "u=set();o=[];d=e\n",
        "for i in s[::-1]:\n",
        " s=[];f(i)\n",
        " if s:o+=[len(s)]\n",
        "print(*sorted(o))"
      ]
    },
    {
      "attachments": {},
      "cell_type": "markdown",
      "metadata": {},
      "source": [
        "# **ex06e3_columbia**"
      ]
    },
    {
      "cell_type": "code",
      "execution_count": null,
      "metadata": {},
      "outputs": [],
      "source": [
        "import heapq as h\n",
        "I=lambda:map(int,input().split())\n",
        "pq=[(0,0,0)]\n",
        "r,c=I()\n",
        "l=[[*I()]for i in [1]*r]\n",
        "d=[[9e9]*c for i in l]\n",
        "d[0][0]=0\n",
        "while pq:\n",
        "\tD,x,y=h.heappop(pq)\n",
        "\tif D>d[x][y]:continue\n",
        "\tfor i,j in (-1,0),(1,0),(0,1),(0,-1):\n",
        "\t\ti+=x\n",
        "\t\tj+=y\n",
        "\t\tif r>i>=0<=j<c and d[x][y]+l[i][j]<d[i][j]:\n",
        "\t\t\td[i][j]=d[x][y]+l[i][j]\n",
        "\t\t\th.heappush(pq,(d[i][j],i,j))\n",
        "for i in d:print(*i)"
      ]
    },
    {
      "cell_type": "code",
      "execution_count": 82,
      "metadata": {},
      "outputs": [
        {
          "name": "stdout",
          "output_type": "stream",
          "text": [
            "[1, 2, 6, 3]\n"
          ]
        }
      ],
      "source": [
        "import heapq\n",
        "\n",
        "l = [3]\n",
        "\n",
        "heapq.heappush(l,2)\n",
        "heapq.heappush(l,6)\n",
        "heapq.heappush(l,1)\n",
        "print(l)\n",
        "\n",
        "# d = heapq.heappop(l)\n",
        "# print(d)\n",
        "# print(l)"
      ]
    },
    {
      "cell_type": "code",
      "execution_count": null,
      "metadata": {},
      "outputs": [],
      "source": []
    },
    {
      "attachments": {},
      "cell_type": "markdown",
      "metadata": {},
      "source": [
        "# **a65_q3a_expressway**"
      ]
    },
    {
      "cell_type": "code",
      "execution_count": null,
      "metadata": {},
      "outputs": [],
      "source": [
        "I=lambda:map(int,input().split())\n",
        "n,w=I()\n",
        "d=[[9e9 for _ in range(n)]for _ in range(n)];d[0][1]=d[1][0]=w\n",
        "for i in range(2, n):\n",
        "  k,*l=I()\n",
        "  for j in range(k):\n",
        "    c,w=l[2*j],l[2*j+1]\n",
        "    d[i][c-1]=w;d[c-1][i]=w\n",
        "for i in range(n):\n",
        "  for a in range(n):\n",
        "    for b in range(n):\n",
        "      d[a][b]=min(d[a][b], d[a][i] + d[i][b])\n",
        "  if i > 1:print(d[0][1], end=\" \")"
      ]
    },
    {
      "attachments": {},
      "cell_type": "markdown",
      "metadata": {},
      "source": [
        "# **a65_q3a_in_the_middle**"
      ]
    },
    {
      "cell_type": "code",
      "execution_count": null,
      "metadata": {},
      "outputs": [],
      "source": [
        "I=lambda:[*map(int, input().split())]\n",
        "\n",
        "INF = 9e9\n",
        "\n",
        "n = int(input())\n",
        "t = I()\n",
        "d = [[INF, INF, INF] for _ in range(n+1)]\n",
        "e = [[] for _ in range(n+1)]\n",
        "\n",
        "for i in range(1, n+1):\n",
        "  k,*l=I();e[i]=l\n",
        "\n",
        "for i in range(3):\n",
        "  q = []\n",
        "  d[t[i]][i] = 0\n",
        "  q.append(t[i])\n",
        "\n",
        "  while q:\n",
        "    now = q.pop(0)\n",
        "    for j in e[now]:\n",
        "      if d[j][i] > d[now][i] + 1:\n",
        "        d[j][i] = d[now][i] + 1\n",
        "        q.append(j)\n",
        "\n",
        "ans = INF\n",
        "\n",
        "for i in range(1, n+1):\n",
        "  if d[i][0] == INF or d[i][1] == INF or d[i][2] == INF:\n",
        "    continue\n",
        "  ans = min(ans, max([d[i][0], d[i][1], d[i][2]]))\n",
        "\n",
        "print(ans)"
      ]
    }
  ],
  "metadata": {
    "colab": {
      "provenance": [],
      "toc_visible": true
    },
    "kernelspec": {
      "display_name": "Python 3",
      "name": "python3"
    },
    "language_info": {
      "codemirror_mode": {
        "name": "ipython",
        "version": 3
      },
      "file_extension": ".py",
      "mimetype": "text/x-python",
      "name": "python",
      "nbconvert_exporter": "python",
      "pygments_lexer": "ipython3",
      "version": "3.9.12"
    }
  },
  "nbformat": 4,
  "nbformat_minor": 0
}
