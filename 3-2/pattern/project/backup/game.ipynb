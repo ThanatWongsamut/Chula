{
 "cells": [
  {
   "cell_type": "code",
   "execution_count": null,
   "metadata": {},
   "outputs": [],
   "source": [
    "env = TicTacToe3D()\n",
    "env.draw_lines()\n",
    "pygame.display.update()\n",
    "\n",
    "# player = 1\n",
    "# game_over = False\n",
    "\n",
    "while True:\n",
    "\tx, y = [int(a) for a in input('Enter x y: ').split(\" \")]\n",
    "\n",
    "\tif not env.move(x, y):\n",
    "\t\tprint('Invalid move')\n",
    "\t\n",
    "\tif (result := env.check()):\n",
    "\t\tprint('Player', 'OAB'[result], 'wins!')\n",
    "\t\tbreak\n",
    "\n",
    "\tenv.draw_figures()\n",
    "\n",
    "\tfor event in pygame.event.get():\n",
    "\t\tif event.type == pygame.QUIT:\n",
    "\t\t\tsys.exit()\n",
    "\n",
    "\t\t# if event.type == pygame.MOUSEBUTTONDOWN and not game_over:\n",
    "\n",
    "\t\t# \tmouseX = event.pos[0] \n",
    "\t\t# \tmouseY = event.pos[1] \n",
    "\n",
    "\t\t# \tclicked_row = int(mouseY // SQUARE_SIZE)\n",
    "\t\t# \tclicked_col = int(mouseX // SQUARE_SIZE)\n",
    "\n",
    "\t\t# \tif available_square( clicked_row, clicked_col ):\n",
    "\n",
    "\t\t# \t\tmark_square( clicked_row, clicked_col, player )\n",
    "\t\t# \t\tif check_win( player ):\n",
    "\t\t# \t\t\tgame_over = True\n",
    "\t\t# \t\tplayer = player % 2 + 1\n",
    "\n",
    "\t\t# \t\tdraw_figures()\n",
    "\n",
    "\t\t# if event.type == pygame.KEYDOWN:\n",
    "\t\t# \tif event.key == pygame.K_r:\n",
    "\t\t# \t\trestart()\n",
    "\t\t# \t\tplayer = 1\n",
    "\t\t# \t\tgame_over = False\n",
    "\n",
    "\tpygame.display.update()"
   ]
  }
 ],
 "metadata": {
  "language_info": {
   "name": "python"
  }
 },
 "nbformat": 4,
 "nbformat_minor": 2
}
