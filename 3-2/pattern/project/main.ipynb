{
 "cells": [
  {
   "cell_type": "code",
   "execution_count": 1,
   "metadata": {},
   "outputs": [
    {
     "name": "stdout",
     "output_type": "stream",
     "text": [
      "importing Jupyter notebook from dumbAgent.ipynb\n",
      "importing Jupyter notebook from environment.ipynb\n",
      "pygame 2.5.2 (SDL 2.28.2, Python 3.8.19)\n",
      "Hello from the pygame community. https://www.pygame.org/contribute.html\n"
     ]
    }
   ],
   "source": [
    "import numpy as np\n",
    "import import_ipynb\n",
    "from dumbAgent import DumbAgent\n",
    "from environment import TicTacToe3D\n",
    "import pygame, sys"
   ]
  },
  {
   "cell_type": "code",
   "execution_count": 2,
   "metadata": {},
   "outputs": [],
   "source": [
    "# dummy_board = np.zeros((4, 4, 4), dtype=int)\n",
    "# # floor, row, col\n",
    "# dummy_board[0, 0, 0] = 1\n",
    "# dummy_board[0, 1, 1] = 1\n",
    "# dummy_board[0, 2, 2] = 1\n",
    "\n",
    "# agent = DumbAgent()\n",
    "# x = agent.findBestMove(dummy_board, 1)\n",
    "# print(x)"
   ]
  },
  {
   "cell_type": "code",
   "execution_count": 3,
   "metadata": {},
   "outputs": [
    {
     "name": "stdout",
     "output_type": "stream",
     "text": [
      "PLAYER: 0, 0\n",
      "BOT: 0, 3\n",
      "PLAYER: 1, 0\n",
      "BOT: 3, 0\n",
      "PLAYER: 1, 2\n",
      "BOT: 1, 1\n",
      "PLAYER: 0, 2\n",
      "BOT: 1, 1\n",
      "PLAYER: 2, 2\n",
      "BOT: 3, 2\n",
      "PLAYER: 1, 2\n",
      "BOT: 0, 0\n",
      "PLAYER: 3, 2\n",
      "BOT: 0, 0\n",
      "PLAYER: 0, 2\n",
      "BOT: 0, 0\n",
      "PLAYER: 2, 2\n",
      "Player A wins!\n"
     ]
    },
    {
     "ename": "",
     "evalue": "",
     "output_type": "error",
     "traceback": [
      "\u001b[1;31mThe Kernel crashed while executing code in the current cell or a previous cell. \n",
      "\u001b[1;31mPlease review the code in the cell(s) to identify a possible cause of the failure. \n",
      "\u001b[1;31mClick <a href='https://aka.ms/vscodeJupyterKernelCrash'>here</a> for more info. \n",
      "\u001b[1;31mView Jupyter <a href='command:jupyter.viewOutput'>log</a> for further details."
     ]
    }
   ],
   "source": [
    "agent = DumbAgent()\n",
    "\n",
    "env = TicTacToe3D(headless=False)\n",
    "env.draw_lines()\n",
    "pygame.display.update()\n",
    "\n",
    "player = 1\n",
    "\n",
    "while True:\n",
    "\tcommand = input()\n",
    "\t\n",
    "\tif command == 'q':\n",
    "\t\tpygame.quit()\n",
    "\t\tbreak\n",
    "\telse:\n",
    "\t\tx, y = [int(a) for a in command.split(\" \")]\n",
    "\n",
    "\t\tif not env.move(x, y, player):\n",
    "\t\t\tprint('Invalid move')\n",
    "\t\t\tcontinue\n",
    "\t\t\n",
    "\t\tprint(f\"PLAYER: {x}, {y}\")\n",
    "\t\tenv.draw_figures()\n",
    "\t\tplayer = -player\n",
    "\t\tpygame.display.update()\n",
    "    \n",
    "\t\tif (result := env.check()):\n",
    "\t\t\tprint('Player', 'OAB'[result], 'wins!')\n",
    "\t\t\tbreak\n",
    "\n",
    "        # For BOT\n",
    "\t\tbotX, botyY = agent.findBestMove(env.board, player)\n",
    "\t\tprint(f\"BOT: {botX}, {botyY}\")\n",
    "\t\tenv.move(botX, botyY, player)\n",
    "\t\tenv.draw_figures()\n",
    "\t\tplayer = -player\n",
    "\t\tpygame.display.update()\n",
    "    \n",
    "\t\tif (result := env.check()):\n",
    "\t\t\tprint('Player', 'OAB'[result], 'wins!')\n",
    "\t\t\tbreak"
   ]
  }
 ],
 "metadata": {
  "kernelspec": {
   "display_name": "pattern-project",
   "language": "python",
   "name": "python3"
  },
  "language_info": {
   "codemirror_mode": {
    "name": "ipython",
    "version": 3
   },
   "file_extension": ".py",
   "mimetype": "text/x-python",
   "name": "python",
   "nbconvert_exporter": "python",
   "pygments_lexer": "ipython3",
   "version": "3.8.19"
  }
 },
 "nbformat": 4,
 "nbformat_minor": 2
}
