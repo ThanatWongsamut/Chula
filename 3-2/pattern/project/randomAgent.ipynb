{
 "cells": [
  {
   "cell_type": "code",
   "execution_count": null,
   "metadata": {},
   "outputs": [],
   "source": [
    "# !pip install import-ipynb\n",
    "import import_ipynb\n",
    "from environment import TicTacToe3D\n",
    "\n",
    "import random\n",
    "import numpy as np"
   ]
  },
  {
   "cell_type": "code",
   "execution_count": null,
   "metadata": {},
   "outputs": [],
   "source": [
    "def calculateAllWin():\n",
    "    directions = [\n",
    "        (1, 0, 0), (0, 1, 0), (0, 0, 1),  # Linear along each dimension\n",
    "        (1, 1, 0), (1, -1, 0), (1, 0, 1), (1, 0, -1), (0, 1, 1), (0, 1, -1),  # Planar diagonals\n",
    "        (1, 1, 1), (1, 1, -1), (1, -1, 1), (-1, 1, 1)  # Space diagonals\n",
    "    ]\n",
    "    \n",
    "    all_wins = []\n",
    "    board_size = 4\n",
    "    win_length = 4\n",
    "\n",
    "    # Iterate over each cell as a possible start of a winning line\n",
    "    for x in range(board_size):\n",
    "        for y in range(board_size):\n",
    "            for z in range(board_size):\n",
    "                for dx, dy, dz in directions:\n",
    "                    # Check if a line can be drawn from (x, y, z) in (dx, dy, dz) direction\n",
    "                    end_x = x + (win_length - 1) * dx\n",
    "                    end_y = y + (win_length - 1) * dy\n",
    "                    end_z = z + (win_length - 1) * dz\n",
    "                    # Ensure the line stays within bounds of the board\n",
    "                    if 0 <= end_x < board_size and 0 <= end_y < board_size and 0 <= end_z < board_size:\n",
    "                        # Create a mask for this winning line\n",
    "                        win_mask = np.zeros((board_size, board_size, board_size), dtype=int)\n",
    "                        for i in range(win_length):\n",
    "                            win_mask[x + i * dx, y + i * dy, z + i * dz] = 1\n",
    "                        all_wins.append(win_mask)\n",
    "    \n",
    "    return all_wins"
   ]
  },
  {
   "cell_type": "code",
   "execution_count": null,
   "metadata": {},
   "outputs": [],
   "source": [
    "class RandomAgent:\n",
    "    def __init__(self):\n",
    "        self.all_wins = calculateAllWin()\n",
    "\n",
    "    def findBestMove(self, board, player):\n",
    "        game = TicTacToe3D().loadState(board)\n",
    "\n",
    "        possible_moves = [(i, j) for i in range(4) for j in range(4) if game.heights[i, j] < 4]\n",
    "\n",
    "        if not possible_moves:\n",
    "            return None\n",
    "        \n",
    "        initial_blocks = set()\n",
    "        for win in self.all_wins:\n",
    "            line = board * win\n",
    "            if np.count_nonzero(line == -player) == 3 and np.count_nonzero(line == player) == 1:\n",
    "                initial_blocks.add(str(win.nonzero()))  # Store win patterns that are already blocking moves\n",
    "        \n",
    "        bestMove = random.choice(possible_moves)\n",
    "\n",
    "        for i, j in possible_moves:\n",
    "            game.move(i, j, player)\n",
    "            new_board = game.board.copy()\n",
    "\n",
    "            for win in self.all_wins:\n",
    "                line = new_board.copy() * win.copy()\n",
    "                if np.count_nonzero(line == player) == 4:\n",
    "                    return (i, j)\n",
    "                elif np.count_nonzero(line == -player) == 3 and np.count_nonzero(line == player) == 1 and str(win.nonzero()) not in initial_blocks:\n",
    "                    return (i, j)\n",
    "\n",
    "            game.loadState(board)\n",
    "\n",
    "        return bestMove"
   ]
  }
 ],
 "metadata": {
  "language_info": {
   "name": "python"
  }
 },
 "nbformat": 4,
 "nbformat_minor": 2
}
